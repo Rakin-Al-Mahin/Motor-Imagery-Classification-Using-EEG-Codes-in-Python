{
 "cells": [
  {
   "cell_type": "code",
   "execution_count": 1,
   "metadata": {},
   "outputs": [
    {
     "name": "stdout",
     "output_type": "stream",
     "text": [
      "Extracting EDF parameters from e:\\VU\\11th Semester\\CSE 4212 & CSE 4316 (Thesis - Project)\\Motor Imagery Classification Using EEG Codes in Python\\data\\B0101T.gdf...\n",
      "GDF file detected\n",
      "Setting channel info structure...\n",
      "Could not determine channel type of the following channels, they will be set as EEG:\n",
      "EEG:C3, EEG:Cz, EEG:C4\n",
      "Creating raw.info structure...\n",
      "Reading 0 ... 604802  =      0.000 ...  2419.208 secs...\n"
     ]
    },
    {
     "name": "stderr",
     "output_type": "stream",
     "text": [
      "C:\\Users\\User\\AppData\\Local\\Temp\\ipykernel_1852\\1230389047.py:29: RuntimeWarning: Highpass cutoff frequency 100.0 is greater than lowpass cutoff frequency 0.5, setting values to 0 and Nyquist.\n",
      "  raw = mne.io.read_raw_gdf(file_path, preload=True, eog=['EOG:ch01', 'EOG:ch02', 'EOG:ch03'])\n"
     ]
    },
    {
     "name": "stdout",
     "output_type": "stream",
     "text": [
      "Used Annotations descriptions: ['1023', '1077', '1078', '1079', '1081', '276', '277', '32766', '768', '769', '770']\n",
      "event_iddddd :  {'left_hand': 10, 'right_hand': 11}\n",
      "pppppppp :  1\n",
      "cccccccc :  1\n",
      "Not setting metadata\n",
      "120 matching events found\n",
      "No baseline correction applied\n",
      "0 projection items activated\n",
      "Using data from preloaded Raw for 120 events and 1001 original time points ...\n",
      "0 bad epochs dropped\n",
      "<Epochs |  120 events (all good), 3 – 7 s, baseline off, ~2.8 MB, data loaded,\n",
      " 'left_hand': 60\n",
      " 'right_hand': 60>\n",
      "Extracting EDF parameters from e:\\VU\\11th Semester\\CSE 4212 & CSE 4316 (Thesis - Project)\\Motor Imagery Classification Using EEG Codes in Python\\data\\B0102T.gdf...\n",
      "GDF file detected\n",
      "Setting channel info structure...\n",
      "Could not determine channel type of the following channels, they will be set as EEG:\n",
      "EEG:C3, EEG:Cz, EEG:C4\n",
      "Creating raw.info structure...\n",
      "Reading 0 ... 552451  =      0.000 ...  2209.804 secs...\n"
     ]
    },
    {
     "name": "stderr",
     "output_type": "stream",
     "text": [
      "C:\\Users\\User\\AppData\\Local\\Temp\\ipykernel_1852\\1230389047.py:66: FutureWarning: The current default of copy=False will change to copy=True in 1.7. Set the value of copy explicitly to avoid this warning\n",
      "  X = epochs.get_data()  # EEG signals: (n_epochs, n_channels, n_times)\n",
      "C:\\Users\\User\\AppData\\Local\\Temp\\ipykernel_1852\\1230389047.py:29: RuntimeWarning: Highpass cutoff frequency 100.0 is greater than lowpass cutoff frequency 0.5, setting values to 0 and Nyquist.\n",
      "  raw = mne.io.read_raw_gdf(file_path, preload=True, eog=['EOG:ch01', 'EOG:ch02', 'EOG:ch03'])\n"
     ]
    },
    {
     "name": "stdout",
     "output_type": "stream",
     "text": [
      "Used Annotations descriptions: ['1023', '32766', '768', '769', '770']\n",
      "event_iddddd :  {'left_hand': 4, 'right_hand': 5}\n",
      "pppppppp :  1\n",
      "cccccccc :  2\n",
      "Not setting metadata\n",
      "120 matching events found\n",
      "No baseline correction applied\n",
      "0 projection items activated\n",
      "Using data from preloaded Raw for 120 events and 1001 original time points ...\n",
      "0 bad epochs dropped\n",
      "<Epochs |  120 events (all good), 3 – 7 s, baseline off, ~2.8 MB, data loaded,\n",
      " 'left_hand': 60\n",
      " 'right_hand': 60>\n",
      "Extracting EDF parameters from e:\\VU\\11th Semester\\CSE 4212 & CSE 4316 (Thesis - Project)\\Motor Imagery Classification Using EEG Codes in Python\\data\\B0103T.gdf...\n",
      "GDF file detected\n",
      "Setting channel info structure...\n",
      "Could not determine channel type of the following channels, they will be set as EEG:\n",
      "EEG:C3, EEG:Cz, EEG:C4\n",
      "Creating raw.info structure...\n",
      "Reading 0 ... 469010  =      0.000 ...  1876.040 secs...\n"
     ]
    },
    {
     "name": "stderr",
     "output_type": "stream",
     "text": [
      "C:\\Users\\User\\AppData\\Local\\Temp\\ipykernel_1852\\1230389047.py:66: FutureWarning: The current default of copy=False will change to copy=True in 1.7. Set the value of copy explicitly to avoid this warning\n",
      "  X = epochs.get_data()  # EEG signals: (n_epochs, n_channels, n_times)\n",
      "C:\\Users\\User\\AppData\\Local\\Temp\\ipykernel_1852\\1230389047.py:29: RuntimeWarning: Highpass cutoff frequency 100.0 is greater than lowpass cutoff frequency 0.5, setting values to 0 and Nyquist.\n",
      "  raw = mne.io.read_raw_gdf(file_path, preload=True, eog=['EOG:ch01', 'EOG:ch02', 'EOG:ch03'])\n"
     ]
    },
    {
     "name": "stdout",
     "output_type": "stream",
     "text": [
      "Used Annotations descriptions: ['1023', '1077', '1078', '1079', '1081', '276', '277', '32766', '768', '769', '770', '781']\n",
      "event_iddddd :  {'left_hand': 10, 'right_hand': 11}\n",
      "pppppppp :  1\n",
      "cccccccc :  3\n",
      "Not setting metadata\n",
      "160 matching events found\n",
      "No baseline correction applied\n",
      "0 projection items activated\n",
      "Using data from preloaded Raw for 160 events and 1001 original time points ...\n",
      "0 bad epochs dropped\n",
      "<Epochs |  160 events (all good), 3 – 7 s, baseline off, ~3.7 MB, data loaded,\n",
      " 'left_hand': 80\n",
      " 'right_hand': 80>\n",
      "Extracting EDF parameters from e:\\VU\\11th Semester\\CSE 4212 & CSE 4316 (Thesis - Project)\\Motor Imagery Classification Using EEG Codes in Python\\data\\B0104E.gdf...\n",
      "GDF file detected\n",
      "Setting channel info structure...\n",
      "Could not determine channel type of the following channels, they will be set as EEG:\n",
      "EEG:C3, EEG:Cz, EEG:C4\n",
      "Creating raw.info structure...\n",
      "Reading 0 ... 466313  =      0.000 ...  1865.252 secs...\n"
     ]
    },
    {
     "name": "stderr",
     "output_type": "stream",
     "text": [
      "C:\\Users\\User\\AppData\\Local\\Temp\\ipykernel_1852\\1230389047.py:66: FutureWarning: The current default of copy=False will change to copy=True in 1.7. Set the value of copy explicitly to avoid this warning\n",
      "  X = epochs.get_data()  # EEG signals: (n_epochs, n_channels, n_times)\n",
      "C:\\Users\\User\\AppData\\Local\\Temp\\ipykernel_1852\\1230389047.py:29: RuntimeWarning: Highpass cutoff frequency 100.0 is greater than lowpass cutoff frequency 0.5, setting values to 0 and Nyquist.\n",
      "  raw = mne.io.read_raw_gdf(file_path, preload=True, eog=['EOG:ch01', 'EOG:ch02', 'EOG:ch03'])\n"
     ]
    },
    {
     "name": "stdout",
     "output_type": "stream",
     "text": [
      "Used Annotations descriptions: ['1023', '1077', '1078', '1079', '1081', '276', '277', '32766', '768', '781', '783']\n",
      "event_iddddd :  {'Cue': 10}\n",
      "pppppppp :  1\n",
      "cccccccc :  4\n",
      "Not setting metadata\n",
      "160 matching events found\n",
      "No baseline correction applied\n",
      "0 projection items activated\n",
      "Using data from preloaded Raw for 160 events and 1001 original time points ...\n",
      "0 bad epochs dropped\n",
      "<Epochs |  160 events (all good), 3 – 7 s, baseline off, ~3.7 MB, data loaded,\n",
      " 'Cue': 160>\n",
      "Extracting EDF parameters from e:\\VU\\11th Semester\\CSE 4212 & CSE 4316 (Thesis - Project)\\Motor Imagery Classification Using EEG Codes in Python\\data\\B0105E.gdf...\n",
      "GDF file detected\n"
     ]
    },
    {
     "name": "stderr",
     "output_type": "stream",
     "text": [
      "C:\\Users\\User\\AppData\\Local\\Temp\\ipykernel_1852\\1230389047.py:66: FutureWarning: The current default of copy=False will change to copy=True in 1.7. Set the value of copy explicitly to avoid this warning\n",
      "  X = epochs.get_data()  # EEG signals: (n_epochs, n_channels, n_times)\n"
     ]
    },
    {
     "name": "stdout",
     "output_type": "stream",
     "text": [
      "Setting channel info structure...\n",
      "Could not determine channel type of the following channels, they will be set as EEG:\n",
      "EEG:C3, EEG:Cz, EEG:C4\n",
      "Creating raw.info structure...\n",
      "Reading 0 ... 474362  =      0.000 ...  1897.448 secs...\n"
     ]
    },
    {
     "name": "stderr",
     "output_type": "stream",
     "text": [
      "C:\\Users\\User\\AppData\\Local\\Temp\\ipykernel_1852\\1230389047.py:29: RuntimeWarning: Highpass cutoff frequency 100.0 is greater than lowpass cutoff frequency 0.5, setting values to 0 and Nyquist.\n",
      "  raw = mne.io.read_raw_gdf(file_path, preload=True, eog=['EOG:ch01', 'EOG:ch02', 'EOG:ch03'])\n"
     ]
    },
    {
     "name": "stdout",
     "output_type": "stream",
     "text": [
      "Used Annotations descriptions: ['1023', '1077', '1078', '1079', '1081', '276', '277', '32766', '768', '781', '783']\n",
      "event_iddddd :  {'Cue': 10}\n",
      "pppppppp :  1\n",
      "cccccccc :  5\n",
      "Not setting metadata\n",
      "160 matching events found\n",
      "No baseline correction applied\n",
      "0 projection items activated\n",
      "Using data from preloaded Raw for 160 events and 1001 original time points ...\n",
      "0 bad epochs dropped\n",
      "<Epochs |  160 events (all good), 3 – 7 s, baseline off, ~3.7 MB, data loaded,\n",
      " 'Cue': 160>\n"
     ]
    },
    {
     "name": "stderr",
     "output_type": "stream",
     "text": [
      "C:\\Users\\User\\AppData\\Local\\Temp\\ipykernel_1852\\1230389047.py:66: FutureWarning: The current default of copy=False will change to copy=True in 1.7. Set the value of copy explicitly to avoid this warning\n",
      "  X = epochs.get_data()  # EEG signals: (n_epochs, n_channels, n_times)\n"
     ]
    },
    {
     "name": "stdout",
     "output_type": "stream",
     "text": [
      "Computing rank from data with rank=None\n",
      "    Using tolerance 5.4e-07 (2.2e-16 eps * 3 dim * 8.1e+08  max singular value)\n",
      "    Estimated rank (mag): 3\n",
      "    MAG: rank 3 computed from 3 data channels with 0 projectors\n",
      "Reducing data rank from 3 -> 3\n",
      "Estimating covariance using EMPIRICAL\n",
      "Done.\n",
      "Computing rank from data with rank=None\n",
      "    Using tolerance 5.4e-07 (2.2e-16 eps * 3 dim * 8.1e+08  max singular value)\n",
      "    Estimated rank (mag): 3\n",
      "    MAG: rank 3 computed from 3 data channels with 0 projectors\n",
      "Reducing data rank from 3 -> 3\n",
      "Estimating covariance using EMPIRICAL\n",
      "Done.\n",
      "Computing rank from data with rank=None\n",
      "    Using tolerance 1.2e-06 (2.2e-16 eps * 3 dim * 1.9e+09  max singular value)\n",
      "    Estimated rank (mag): 3\n",
      "    MAG: rank 3 computed from 3 data channels with 0 projectors\n",
      "Reducing data rank from 3 -> 3\n",
      "Estimating covariance using EMPIRICAL\n",
      "Done.\n",
      "Computing rank from data with rank=None\n",
      "    Using tolerance 7.6e-07 (2.2e-16 eps * 3 dim * 1.1e+09  max singular value)\n",
      "    Estimated rank (mag): 3\n",
      "    MAG: rank 3 computed from 3 data channels with 0 projectors\n",
      "Reducing data rank from 3 -> 3\n",
      "Estimating covariance using EMPIRICAL\n",
      "Done.\n",
      "Extracting EDF parameters from e:\\VU\\11th Semester\\CSE 4212 & CSE 4316 (Thesis - Project)\\Motor Imagery Classification Using EEG Codes in Python\\data\\B0201T.gdf...\n",
      "GDF file detected\n",
      "Setting channel info structure...\n",
      "Could not determine channel type of the following channels, they will be set as EEG:\n",
      "EEG:C3, EEG:Cz, EEG:C4\n",
      "Creating raw.info structure...\n",
      "Reading 0 ... 604802  =      0.000 ...  2419.208 secs...\n"
     ]
    },
    {
     "name": "stderr",
     "output_type": "stream",
     "text": [
      "C:\\Users\\User\\AppData\\Local\\Temp\\ipykernel_1852\\1230389047.py:29: RuntimeWarning: Highpass cutoff frequency 100.0 is greater than lowpass cutoff frequency 0.5, setting values to 0 and Nyquist.\n",
      "  raw = mne.io.read_raw_gdf(file_path, preload=True, eog=['EOG:ch01', 'EOG:ch02', 'EOG:ch03'])\n"
     ]
    },
    {
     "name": "stdout",
     "output_type": "stream",
     "text": [
      "Used Annotations descriptions: ['1023', '1077', '1078', '1079', '1081', '276', '277', '32766', '768', '769', '770']\n",
      "event_iddddd :  {'left_hand': 10, 'right_hand': 11}\n",
      "pppppppp :  2\n",
      "cccccccc :  1\n",
      "Not setting metadata\n",
      "120 matching events found\n",
      "No baseline correction applied\n",
      "0 projection items activated\n",
      "Using data from preloaded Raw for 120 events and 1001 original time points ...\n",
      "0 bad epochs dropped\n",
      "<Epochs |  120 events (all good), 3 – 7 s, baseline off, ~2.8 MB, data loaded,\n",
      " 'left_hand': 60\n",
      " 'right_hand': 60>\n",
      "Extracting EDF parameters from e:\\VU\\11th Semester\\CSE 4212 & CSE 4316 (Thesis - Project)\\Motor Imagery Classification Using EEG Codes in Python\\data\\B0202T.gdf...\n",
      "GDF file detected\n",
      "Setting channel info structure...\n",
      "Could not determine channel type of the following channels, they will be set as EEG:\n",
      "EEG:C3, EEG:Cz, EEG:C4\n",
      "Creating raw.info structure...\n",
      "Reading 0 ... 604802  =      0.000 ...  2419.208 secs...\n"
     ]
    },
    {
     "name": "stderr",
     "output_type": "stream",
     "text": [
      "C:\\Users\\User\\AppData\\Local\\Temp\\ipykernel_1852\\1230389047.py:66: FutureWarning: The current default of copy=False will change to copy=True in 1.7. Set the value of copy explicitly to avoid this warning\n",
      "  X = epochs.get_data()  # EEG signals: (n_epochs, n_channels, n_times)\n",
      "C:\\Users\\User\\AppData\\Local\\Temp\\ipykernel_1852\\1230389047.py:29: RuntimeWarning: Highpass cutoff frequency 100.0 is greater than lowpass cutoff frequency 0.5, setting values to 0 and Nyquist.\n",
      "  raw = mne.io.read_raw_gdf(file_path, preload=True, eog=['EOG:ch01', 'EOG:ch02', 'EOG:ch03'])\n"
     ]
    },
    {
     "name": "stdout",
     "output_type": "stream",
     "text": [
      "Used Annotations descriptions: ['1023', '1077', '1078', '1079', '1081', '276', '277', '32766', '768', '769', '770']\n",
      "event_iddddd :  {'left_hand': 10, 'right_hand': 11}\n",
      "pppppppp :  2\n",
      "cccccccc :  2\n",
      "Not setting metadata\n",
      "120 matching events found\n",
      "No baseline correction applied\n",
      "0 projection items activated\n",
      "Using data from preloaded Raw for 120 events and 1001 original time points ...\n",
      "0 bad epochs dropped\n",
      "<Epochs |  120 events (all good), 3 – 7 s, baseline off, ~2.8 MB, data loaded,\n",
      " 'left_hand': 60\n",
      " 'right_hand': 60>\n",
      "Extracting EDF parameters from e:\\VU\\11th Semester\\CSE 4212 & CSE 4316 (Thesis - Project)\\Motor Imagery Classification Using EEG Codes in Python\\data\\B0203T.gdf...\n",
      "GDF file detected\n",
      "Setting channel info structure...\n",
      "Could not determine channel type of the following channels, they will be set as EEG:\n",
      "EEG:C3, EEG:Cz, EEG:C4\n",
      "Creating raw.info structure...\n",
      "Reading 0 ... 464154  =      0.000 ...  1856.616 secs...\n"
     ]
    },
    {
     "name": "stderr",
     "output_type": "stream",
     "text": [
      "C:\\Users\\User\\AppData\\Local\\Temp\\ipykernel_1852\\1230389047.py:66: FutureWarning: The current default of copy=False will change to copy=True in 1.7. Set the value of copy explicitly to avoid this warning\n",
      "  X = epochs.get_data()  # EEG signals: (n_epochs, n_channels, n_times)\n",
      "C:\\Users\\User\\AppData\\Local\\Temp\\ipykernel_1852\\1230389047.py:29: RuntimeWarning: Highpass cutoff frequency 100.0 is greater than lowpass cutoff frequency 0.5, setting values to 0 and Nyquist.\n",
      "  raw = mne.io.read_raw_gdf(file_path, preload=True, eog=['EOG:ch01', 'EOG:ch02', 'EOG:ch03'])\n"
     ]
    },
    {
     "name": "stdout",
     "output_type": "stream",
     "text": [
      "Used Annotations descriptions: ['1023', '1077', '1078', '1079', '1081', '276', '277', '32766', '768', '769', '770', '781']\n",
      "event_iddddd :  {'left_hand': 10, 'right_hand': 11}\n",
      "pppppppp :  2\n",
      "cccccccc :  3\n",
      "Not setting metadata\n",
      "160 matching events found\n",
      "No baseline correction applied\n",
      "0 projection items activated\n",
      "Using data from preloaded Raw for 160 events and 1001 original time points ...\n",
      "0 bad epochs dropped\n",
      "<Epochs |  160 events (all good), 3 – 7 s, baseline off, ~3.7 MB, data loaded,\n",
      " 'left_hand': 80\n",
      " 'right_hand': 80>\n",
      "Extracting EDF parameters from e:\\VU\\11th Semester\\CSE 4212 & CSE 4316 (Thesis - Project)\\Motor Imagery Classification Using EEG Codes in Python\\data\\B0204E.gdf...\n",
      "GDF file detected\n",
      "Setting channel info structure...\n",
      "Could not determine channel type of the following channels, they will be set as EEG:\n",
      "EEG:C3, EEG:Cz, EEG:C4\n",
      "Creating raw.info structure...\n",
      "Reading 0 ... 361829  =      0.000 ...  1447.316 secs...\n"
     ]
    },
    {
     "name": "stderr",
     "output_type": "stream",
     "text": [
      "C:\\Users\\User\\AppData\\Local\\Temp\\ipykernel_1852\\1230389047.py:66: FutureWarning: The current default of copy=False will change to copy=True in 1.7. Set the value of copy explicitly to avoid this warning\n",
      "  X = epochs.get_data()  # EEG signals: (n_epochs, n_channels, n_times)\n",
      "C:\\Users\\User\\AppData\\Local\\Temp\\ipykernel_1852\\1230389047.py:29: RuntimeWarning: Highpass cutoff frequency 100.0 is greater than lowpass cutoff frequency 0.5, setting values to 0 and Nyquist.\n",
      "  raw = mne.io.read_raw_gdf(file_path, preload=True, eog=['EOG:ch01', 'EOG:ch02', 'EOG:ch03'])\n"
     ]
    },
    {
     "name": "stdout",
     "output_type": "stream",
     "text": [
      "Used Annotations descriptions: ['1023', '1077', '1078', '1079', '1081', '276', '277', '32766', '768', '781', '783']\n",
      "event_iddddd :  {'Cue': 10}\n",
      "pppppppp :  2\n",
      "cccccccc :  4\n",
      "Not setting metadata\n",
      "120 matching events found\n",
      "No baseline correction applied\n",
      "0 projection items activated\n",
      "Using data from preloaded Raw for 120 events and 1001 original time points ...\n",
      "0 bad epochs dropped\n",
      "<Epochs |  120 events (all good), 3 – 7 s, baseline off, ~2.8 MB, data loaded,\n",
      " 'Cue': 120>\n",
      "Extracting EDF parameters from e:\\VU\\11th Semester\\CSE 4212 & CSE 4316 (Thesis - Project)\\Motor Imagery Classification Using EEG Codes in Python\\data\\B0205E.gdf...\n",
      "GDF file detected\n",
      "Setting channel info structure...\n",
      "Could not determine channel type of the following channels, they will be set as EEG:\n",
      "EEG:C3, EEG:Cz, EEG:C4\n",
      "Creating raw.info structure...\n",
      "Reading 0 ... 473686  =      0.000 ...  1894.744 secs...\n"
     ]
    },
    {
     "name": "stderr",
     "output_type": "stream",
     "text": [
      "C:\\Users\\User\\AppData\\Local\\Temp\\ipykernel_1852\\1230389047.py:66: FutureWarning: The current default of copy=False will change to copy=True in 1.7. Set the value of copy explicitly to avoid this warning\n",
      "  X = epochs.get_data()  # EEG signals: (n_epochs, n_channels, n_times)\n",
      "C:\\Users\\User\\AppData\\Local\\Temp\\ipykernel_1852\\1230389047.py:29: RuntimeWarning: Highpass cutoff frequency 100.0 is greater than lowpass cutoff frequency 0.5, setting values to 0 and Nyquist.\n",
      "  raw = mne.io.read_raw_gdf(file_path, preload=True, eog=['EOG:ch01', 'EOG:ch02', 'EOG:ch03'])\n"
     ]
    },
    {
     "name": "stdout",
     "output_type": "stream",
     "text": [
      "Used Annotations descriptions: ['1023', '1077', '1078', '1079', '1081', '276', '277', '32766', '768', '781', '783']\n",
      "event_iddddd :  {'Cue': 10}\n",
      "pppppppp :  2\n",
      "cccccccc :  5\n",
      "Not setting metadata\n",
      "160 matching events found\n",
      "No baseline correction applied\n",
      "0 projection items activated\n",
      "Using data from preloaded Raw for 160 events and 1001 original time points ...\n",
      "0 bad epochs dropped\n",
      "<Epochs |  160 events (all good), 3 – 7 s, baseline off, ~3.7 MB, data loaded,\n",
      " 'Cue': 160>\n",
      "Computing rank from data with rank=None\n",
      "    Using tolerance 1.3e-06 (2.2e-16 eps * 3 dim * 1.9e+09  max singular value)\n",
      "    Estimated rank (mag): 3\n",
      "    MAG: rank 3 computed from 3 data channels with 0 projectors\n",
      "Reducing data rank from 3 -> 3\n",
      "Estimating covariance using EMPIRICAL\n",
      "Done.\n",
      "Computing rank from data with rank=None\n",
      "    Using tolerance 8.2e-07 (2.2e-16 eps * 3 dim * 1.2e+09  max singular value)\n",
      "    Estimated rank (mag): 3\n",
      "    MAG: rank 3 computed from 3 data channels with 0 projectors\n"
     ]
    },
    {
     "name": "stderr",
     "output_type": "stream",
     "text": [
      "C:\\Users\\User\\AppData\\Local\\Temp\\ipykernel_1852\\1230389047.py:66: FutureWarning: The current default of copy=False will change to copy=True in 1.7. Set the value of copy explicitly to avoid this warning\n",
      "  X = epochs.get_data()  # EEG signals: (n_epochs, n_channels, n_times)\n"
     ]
    },
    {
     "name": "stdout",
     "output_type": "stream",
     "text": [
      "Reducing data rank from 3 -> 3\n",
      "Estimating covariance using EMPIRICAL\n",
      "Done.\n",
      "Extracting EDF parameters from e:\\VU\\11th Semester\\CSE 4212 & CSE 4316 (Thesis - Project)\\Motor Imagery Classification Using EEG Codes in Python\\data\\B0301T.gdf...\n",
      "GDF file detected\n",
      "Setting channel info structure...\n",
      "Could not determine channel type of the following channels, they will be set as EEG:\n",
      "EEG:C3, EEG:Cz, EEG:C4\n",
      "Creating raw.info structure...\n",
      "Reading 0 ... 604802  =      0.000 ...  2419.208 secs...\n"
     ]
    },
    {
     "name": "stderr",
     "output_type": "stream",
     "text": [
      "C:\\Users\\User\\AppData\\Local\\Temp\\ipykernel_1852\\1230389047.py:29: RuntimeWarning: Highpass cutoff frequency 100.0 is greater than lowpass cutoff frequency 0.5, setting values to 0 and Nyquist.\n",
      "  raw = mne.io.read_raw_gdf(file_path, preload=True, eog=['EOG:ch01', 'EOG:ch02', 'EOG:ch03'])\n"
     ]
    },
    {
     "name": "stdout",
     "output_type": "stream",
     "text": [
      "Used Annotations descriptions: ['1023', '1077', '1078', '1079', '1081', '276', '277', '32766', '768', '769', '770']\n",
      "event_iddddd :  {'left_hand': 10, 'right_hand': 11}\n",
      "pppppppp :  3\n",
      "cccccccc :  1\n",
      "Not setting metadata\n",
      "120 matching events found\n",
      "No baseline correction applied\n",
      "0 projection items activated\n",
      "Using data from preloaded Raw for 120 events and 1001 original time points ...\n",
      "0 bad epochs dropped\n",
      "<Epochs |  120 events (all good), 3 – 7 s, baseline off, ~2.8 MB, data loaded,\n",
      " 'left_hand': 60\n",
      " 'right_hand': 60>\n",
      "Extracting EDF parameters from e:\\VU\\11th Semester\\CSE 4212 & CSE 4316 (Thesis - Project)\\Motor Imagery Classification Using EEG Codes in Python\\data\\B0302T.gdf...\n",
      "GDF file detected\n",
      "Setting channel info structure...\n",
      "Could not determine channel type of the following channels, they will be set as EEG:\n",
      "EEG:C3, EEG:Cz, EEG:C4\n",
      "Creating raw.info structure...\n",
      "Reading 0 ... 604802  =      0.000 ...  2419.208 secs...\n"
     ]
    },
    {
     "name": "stderr",
     "output_type": "stream",
     "text": [
      "C:\\Users\\User\\AppData\\Local\\Temp\\ipykernel_1852\\1230389047.py:66: FutureWarning: The current default of copy=False will change to copy=True in 1.7. Set the value of copy explicitly to avoid this warning\n",
      "  X = epochs.get_data()  # EEG signals: (n_epochs, n_channels, n_times)\n",
      "C:\\Users\\User\\AppData\\Local\\Temp\\ipykernel_1852\\1230389047.py:29: RuntimeWarning: Highpass cutoff frequency 100.0 is greater than lowpass cutoff frequency 0.5, setting values to 0 and Nyquist.\n",
      "  raw = mne.io.read_raw_gdf(file_path, preload=True, eog=['EOG:ch01', 'EOG:ch02', 'EOG:ch03'])\n"
     ]
    },
    {
     "name": "stdout",
     "output_type": "stream",
     "text": [
      "Used Annotations descriptions: ['1023', '1077', '1078', '1079', '1081', '276', '277', '32766', '768', '769', '770']\n",
      "event_iddddd :  {'left_hand': 10, 'right_hand': 11}\n",
      "pppppppp :  3\n",
      "cccccccc :  2\n",
      "Not setting metadata\n",
      "120 matching events found\n",
      "No baseline correction applied\n",
      "0 projection items activated\n",
      "Using data from preloaded Raw for 120 events and 1001 original time points ...\n",
      "0 bad epochs dropped\n",
      "<Epochs |  120 events (all good), 3 – 7 s, baseline off, ~2.8 MB, data loaded,\n",
      " 'left_hand': 60\n",
      " 'right_hand': 60>\n",
      "Extracting EDF parameters from e:\\VU\\11th Semester\\CSE 4212 & CSE 4316 (Thesis - Project)\\Motor Imagery Classification Using EEG Codes in Python\\data\\B0303T.gdf...\n",
      "GDF file detected\n",
      "Setting channel info structure...\n",
      "Could not determine channel type of the following channels, they will be set as EEG:\n",
      "EEG:C3, EEG:Cz, EEG:C4\n",
      "Creating raw.info structure...\n",
      "Reading 0 ... 464674  =      0.000 ...  1858.696 secs...\n"
     ]
    },
    {
     "name": "stderr",
     "output_type": "stream",
     "text": [
      "C:\\Users\\User\\AppData\\Local\\Temp\\ipykernel_1852\\1230389047.py:66: FutureWarning: The current default of copy=False will change to copy=True in 1.7. Set the value of copy explicitly to avoid this warning\n",
      "  X = epochs.get_data()  # EEG signals: (n_epochs, n_channels, n_times)\n",
      "C:\\Users\\User\\AppData\\Local\\Temp\\ipykernel_1852\\1230389047.py:29: RuntimeWarning: Highpass cutoff frequency 100.0 is greater than lowpass cutoff frequency 0.5, setting values to 0 and Nyquist.\n",
      "  raw = mne.io.read_raw_gdf(file_path, preload=True, eog=['EOG:ch01', 'EOG:ch02', 'EOG:ch03'])\n"
     ]
    },
    {
     "name": "stdout",
     "output_type": "stream",
     "text": [
      "Used Annotations descriptions: ['1023', '1077', '1078', '1079', '1081', '276', '277', '32766', '768', '769', '770', '781']\n",
      "event_iddddd :  {'left_hand': 10, 'right_hand': 11}\n",
      "pppppppp :  3\n",
      "cccccccc :  3\n",
      "Not setting metadata\n",
      "160 matching events found\n",
      "No baseline correction applied\n",
      "0 projection items activated\n",
      "Using data from preloaded Raw for 160 events and 1001 original time points ...\n",
      "0 bad epochs dropped\n",
      "<Epochs |  160 events (all good), 3 – 7 s, baseline off, ~3.7 MB, data loaded,\n",
      " 'left_hand': 80\n",
      " 'right_hand': 80>\n",
      "Extracting EDF parameters from e:\\VU\\11th Semester\\CSE 4212 & CSE 4316 (Thesis - Project)\\Motor Imagery Classification Using EEG Codes in Python\\data\\B0304E.gdf...\n",
      "GDF file detected\n",
      "Setting channel info structure...\n",
      "Could not determine channel type of the following channels, they will be set as EEG:\n",
      "EEG:C3, EEG:Cz, EEG:C4\n",
      "Creating raw.info structure...\n",
      "Reading 0 ... 464674  =      0.000 ...  1858.696 secs...\n"
     ]
    },
    {
     "name": "stderr",
     "output_type": "stream",
     "text": [
      "C:\\Users\\User\\AppData\\Local\\Temp\\ipykernel_1852\\1230389047.py:66: FutureWarning: The current default of copy=False will change to copy=True in 1.7. Set the value of copy explicitly to avoid this warning\n",
      "  X = epochs.get_data()  # EEG signals: (n_epochs, n_channels, n_times)\n",
      "C:\\Users\\User\\AppData\\Local\\Temp\\ipykernel_1852\\1230389047.py:29: RuntimeWarning: Highpass cutoff frequency 100.0 is greater than lowpass cutoff frequency 0.5, setting values to 0 and Nyquist.\n",
      "  raw = mne.io.read_raw_gdf(file_path, preload=True, eog=['EOG:ch01', 'EOG:ch02', 'EOG:ch03'])\n"
     ]
    },
    {
     "name": "stdout",
     "output_type": "stream",
     "text": [
      "Used Annotations descriptions: ['1023', '1077', '1078', '1079', '1081', '276', '277', '32766', '768', '781', '783']\n",
      "event_iddddd :  {'Cue': 10}\n",
      "pppppppp :  3\n",
      "cccccccc :  4\n",
      "Not setting metadata\n",
      "160 matching events found\n",
      "No baseline correction applied\n",
      "0 projection items activated\n",
      "Using data from preloaded Raw for 160 events and 1001 original time points ...\n",
      "0 bad epochs dropped\n",
      "<Epochs |  160 events (all good), 3 – 7 s, baseline off, ~3.7 MB, data loaded,\n",
      " 'Cue': 160>\n",
      "Extracting EDF parameters from e:\\VU\\11th Semester\\CSE 4212 & CSE 4316 (Thesis - Project)\\Motor Imagery Classification Using EEG Codes in Python\\data\\B0305E.gdf...\n",
      "GDF file detected\n",
      "Setting channel info structure...\n",
      "Could not determine channel type of the following channels, they will be set as EEG:\n",
      "EEG:C3, EEG:Cz, EEG:C4\n",
      "Creating raw.info structure...\n",
      "Reading 0 ... 463618  =      0.000 ...  1854.472 secs...\n"
     ]
    },
    {
     "name": "stderr",
     "output_type": "stream",
     "text": [
      "C:\\Users\\User\\AppData\\Local\\Temp\\ipykernel_1852\\1230389047.py:66: FutureWarning: The current default of copy=False will change to copy=True in 1.7. Set the value of copy explicitly to avoid this warning\n",
      "  X = epochs.get_data()  # EEG signals: (n_epochs, n_channels, n_times)\n",
      "C:\\Users\\User\\AppData\\Local\\Temp\\ipykernel_1852\\1230389047.py:29: RuntimeWarning: Highpass cutoff frequency 100.0 is greater than lowpass cutoff frequency 0.5, setting values to 0 and Nyquist.\n",
      "  raw = mne.io.read_raw_gdf(file_path, preload=True, eog=['EOG:ch01', 'EOG:ch02', 'EOG:ch03'])\n"
     ]
    },
    {
     "name": "stdout",
     "output_type": "stream",
     "text": [
      "Used Annotations descriptions: ['1023', '1077', '1078', '1079', '1081', '276', '277', '32766', '768', '781', '783']\n",
      "event_iddddd :  {'Cue': 10}\n",
      "pppppppp :  3\n",
      "cccccccc :  5\n",
      "Not setting metadata\n",
      "160 matching events found\n",
      "No baseline correction applied\n",
      "0 projection items activated\n",
      "Using data from preloaded Raw for 160 events and 1001 original time points ...\n",
      "0 bad epochs dropped\n",
      "<Epochs |  160 events (all good), 3 – 7 s, baseline off, ~3.7 MB, data loaded,\n",
      " 'Cue': 160>\n",
      "Computing rank from data with rank=None\n",
      "    Using tolerance 2.7e-06 (2.2e-16 eps * 3 dim * 4e+09  max singular value)\n"
     ]
    },
    {
     "name": "stderr",
     "output_type": "stream",
     "text": [
      "C:\\Users\\User\\AppData\\Local\\Temp\\ipykernel_1852\\1230389047.py:66: FutureWarning: The current default of copy=False will change to copy=True in 1.7. Set the value of copy explicitly to avoid this warning\n",
      "  X = epochs.get_data()  # EEG signals: (n_epochs, n_channels, n_times)\n"
     ]
    },
    {
     "name": "stdout",
     "output_type": "stream",
     "text": [
      "    Estimated rank (mag): 3\n",
      "    MAG: rank 3 computed from 3 data channels with 0 projectors\n",
      "Reducing data rank from 3 -> 3\n",
      "Estimating covariance using EMPIRICAL\n",
      "Done.\n",
      "Computing rank from data with rank=None\n",
      "    Using tolerance 1.6e-06 (2.2e-16 eps * 3 dim * 2.5e+09  max singular value)\n",
      "    Estimated rank (mag): 3\n",
      "    MAG: rank 3 computed from 3 data channels with 0 projectors\n",
      "Reducing data rank from 3 -> 3\n",
      "Estimating covariance using EMPIRICAL\n",
      "Done.\n",
      "Extracting EDF parameters from e:\\VU\\11th Semester\\CSE 4212 & CSE 4316 (Thesis - Project)\\Motor Imagery Classification Using EEG Codes in Python\\data\\B0401T.gdf...\n",
      "GDF file detected\n",
      "Setting channel info structure...\n",
      "Could not determine channel type of the following channels, they will be set as EEG:\n",
      "EEG:C3, EEG:Cz, EEG:C4\n",
      "Creating raw.info structure...\n",
      "Reading 0 ... 604802  =      0.000 ...  2419.208 secs...\n"
     ]
    },
    {
     "name": "stderr",
     "output_type": "stream",
     "text": [
      "C:\\Users\\User\\AppData\\Local\\Temp\\ipykernel_1852\\1230389047.py:29: RuntimeWarning: Highpass cutoff frequency 100.0 is greater than lowpass cutoff frequency 0.5, setting values to 0 and Nyquist.\n",
      "  raw = mne.io.read_raw_gdf(file_path, preload=True, eog=['EOG:ch01', 'EOG:ch02', 'EOG:ch03'])\n"
     ]
    },
    {
     "name": "stdout",
     "output_type": "stream",
     "text": [
      "Used Annotations descriptions: ['1023', '1077', '1078', '1079', '1081', '276', '277', '32766', '768', '769', '770']\n",
      "event_iddddd :  {'left_hand': 10, 'right_hand': 11}\n",
      "pppppppp :  4\n",
      "cccccccc :  1\n",
      "Not setting metadata\n",
      "120 matching events found\n",
      "No baseline correction applied\n",
      "0 projection items activated\n",
      "Using data from preloaded Raw for 120 events and 1001 original time points ...\n",
      "0 bad epochs dropped\n",
      "<Epochs |  120 events (all good), 3 – 7 s, baseline off, ~2.8 MB, data loaded,\n",
      " 'left_hand': 60\n",
      " 'right_hand': 60>\n",
      "Extracting EDF parameters from e:\\VU\\11th Semester\\CSE 4212 & CSE 4316 (Thesis - Project)\\Motor Imagery Classification Using EEG Codes in Python\\data\\B0402T.gdf...\n",
      "GDF file detected\n",
      "Setting channel info structure...\n",
      "Could not determine channel type of the following channels, they will be set as EEG:\n",
      "EEG:C3, EEG:Cz, EEG:C4\n",
      "Creating raw.info structure...\n",
      "Reading 0 ... 696265  =      0.000 ...  2785.060 secs...\n"
     ]
    },
    {
     "name": "stderr",
     "output_type": "stream",
     "text": [
      "C:\\Users\\User\\AppData\\Local\\Temp\\ipykernel_1852\\1230389047.py:66: FutureWarning: The current default of copy=False will change to copy=True in 1.7. Set the value of copy explicitly to avoid this warning\n",
      "  X = epochs.get_data()  # EEG signals: (n_epochs, n_channels, n_times)\n",
      "C:\\Users\\User\\AppData\\Local\\Temp\\ipykernel_1852\\1230389047.py:29: RuntimeWarning: Highpass cutoff frequency 100.0 is greater than lowpass cutoff frequency 0.5, setting values to 0 and Nyquist.\n",
      "  raw = mne.io.read_raw_gdf(file_path, preload=True, eog=['EOG:ch01', 'EOG:ch02', 'EOG:ch03'])\n"
     ]
    },
    {
     "name": "stdout",
     "output_type": "stream",
     "text": [
      "Used Annotations descriptions: ['1023', '1077', '1078', '1079', '1081', '276', '277', '32766', '768', '769', '770']\n",
      "event_iddddd :  {'left_hand': 10, 'right_hand': 11}\n",
      "pppppppp :  4\n",
      "cccccccc :  2\n",
      "Not setting metadata\n",
      "140 matching events found\n",
      "No baseline correction applied\n",
      "0 projection items activated\n",
      "Using data from preloaded Raw for 140 events and 1001 original time points ...\n",
      "0 bad epochs dropped\n",
      "<Epochs |  140 events (all good), 3 – 7 s, baseline off, ~3.2 MB, data loaded,\n",
      " 'left_hand': 70\n",
      " 'right_hand': 70>\n",
      "Extracting EDF parameters from e:\\VU\\11th Semester\\CSE 4212 & CSE 4316 (Thesis - Project)\\Motor Imagery Classification Using EEG Codes in Python\\data\\B0403T.gdf...\n",
      "GDF file detected\n",
      "Setting channel info structure...\n",
      "Could not determine channel type of the following channels, they will be set as EEG:\n",
      "EEG:C3, EEG:Cz, EEG:C4\n",
      "Creating raw.info structure...\n",
      "Reading 0 ... 468558  =      0.000 ...  1874.232 secs...\n"
     ]
    },
    {
     "name": "stderr",
     "output_type": "stream",
     "text": [
      "C:\\Users\\User\\AppData\\Local\\Temp\\ipykernel_1852\\1230389047.py:66: FutureWarning: The current default of copy=False will change to copy=True in 1.7. Set the value of copy explicitly to avoid this warning\n",
      "  X = epochs.get_data()  # EEG signals: (n_epochs, n_channels, n_times)\n",
      "C:\\Users\\User\\AppData\\Local\\Temp\\ipykernel_1852\\1230389047.py:29: RuntimeWarning: Highpass cutoff frequency 100.0 is greater than lowpass cutoff frequency 0.5, setting values to 0 and Nyquist.\n",
      "  raw = mne.io.read_raw_gdf(file_path, preload=True, eog=['EOG:ch01', 'EOG:ch02', 'EOG:ch03'])\n"
     ]
    },
    {
     "name": "stdout",
     "output_type": "stream",
     "text": [
      "Used Annotations descriptions: ['1023', '1077', '1078', '1079', '1081', '276', '277', '32766', '768', '769', '770', '781']\n",
      "event_iddddd :  {'left_hand': 10, 'right_hand': 11}\n",
      "pppppppp :  4\n",
      "cccccccc :  3\n",
      "Not setting metadata\n",
      "160 matching events found\n",
      "No baseline correction applied\n",
      "0 projection items activated\n",
      "Using data from preloaded Raw for 160 events and 1001 original time points ...\n",
      "0 bad epochs dropped\n",
      "<Epochs |  160 events (all good), 3 – 7 s, baseline off, ~3.7 MB, data loaded,\n",
      " 'left_hand': 80\n",
      " 'right_hand': 80>\n",
      "Extracting EDF parameters from e:\\VU\\11th Semester\\CSE 4212 & CSE 4316 (Thesis - Project)\\Motor Imagery Classification Using EEG Codes in Python\\data\\B0404E.gdf...\n",
      "GDF file detected\n",
      "Setting channel info structure...\n",
      "Could not determine channel type of the following channels, they will be set as EEG:\n",
      "EEG:C3, EEG:Cz, EEG:C4\n",
      "Creating raw.info structure...\n",
      "Reading 0 ... 467478  =      0.000 ...  1869.912 secs...\n"
     ]
    },
    {
     "name": "stderr",
     "output_type": "stream",
     "text": [
      "C:\\Users\\User\\AppData\\Local\\Temp\\ipykernel_1852\\1230389047.py:66: FutureWarning: The current default of copy=False will change to copy=True in 1.7. Set the value of copy explicitly to avoid this warning\n",
      "  X = epochs.get_data()  # EEG signals: (n_epochs, n_channels, n_times)\n",
      "C:\\Users\\User\\AppData\\Local\\Temp\\ipykernel_1852\\1230389047.py:29: RuntimeWarning: Highpass cutoff frequency 100.0 is greater than lowpass cutoff frequency 0.5, setting values to 0 and Nyquist.\n",
      "  raw = mne.io.read_raw_gdf(file_path, preload=True, eog=['EOG:ch01', 'EOG:ch02', 'EOG:ch03'])\n"
     ]
    },
    {
     "name": "stdout",
     "output_type": "stream",
     "text": [
      "Used Annotations descriptions: ['1023', '1077', '1078', '1079', '1081', '276', '277', '32766', '768', '781', '783']\n",
      "event_iddddd :  {'Cue': 10}\n",
      "pppppppp :  4\n",
      "cccccccc :  4\n",
      "Not setting metadata\n",
      "160 matching events found\n",
      "No baseline correction applied\n",
      "0 projection items activated\n",
      "Using data from preloaded Raw for 160 events and 1001 original time points ...\n",
      "0 bad epochs dropped\n",
      "<Epochs |  160 events (all good), 3 – 7 s, baseline off, ~3.7 MB, data loaded,\n",
      " 'Cue': 160>\n",
      "Extracting EDF parameters from e:\\VU\\11th Semester\\CSE 4212 & CSE 4316 (Thesis - Project)\\Motor Imagery Classification Using EEG Codes in Python\\data\\B0405E.gdf...\n",
      "GDF file detected\n",
      "Setting channel info structure...\n",
      "Could not determine channel type of the following channels, they will be set as EEG:\n",
      "EEG:C3, EEG:Cz, EEG:C4\n",
      "Creating raw.info structure...\n",
      "Reading 0 ... 466050  =      0.000 ...  1864.200 secs...\n"
     ]
    },
    {
     "name": "stderr",
     "output_type": "stream",
     "text": [
      "C:\\Users\\User\\AppData\\Local\\Temp\\ipykernel_1852\\1230389047.py:66: FutureWarning: The current default of copy=False will change to copy=True in 1.7. Set the value of copy explicitly to avoid this warning\n",
      "  X = epochs.get_data()  # EEG signals: (n_epochs, n_channels, n_times)\n",
      "C:\\Users\\User\\AppData\\Local\\Temp\\ipykernel_1852\\1230389047.py:29: RuntimeWarning: Highpass cutoff frequency 100.0 is greater than lowpass cutoff frequency 0.5, setting values to 0 and Nyquist.\n",
      "  raw = mne.io.read_raw_gdf(file_path, preload=True, eog=['EOG:ch01', 'EOG:ch02', 'EOG:ch03'])\n"
     ]
    },
    {
     "name": "stdout",
     "output_type": "stream",
     "text": [
      "Used Annotations descriptions: ['1023', '1077', '1078', '1079', '1081', '276', '277', '32766', '768', '781', '783']\n",
      "event_iddddd :  {'Cue': 10}\n",
      "pppppppp :  4\n",
      "cccccccc :  5\n",
      "Not setting metadata\n",
      "160 matching events found\n",
      "No baseline correction applied\n",
      "0 projection items activated\n",
      "Using data from preloaded Raw for 160 events and 1001 original time points ...\n",
      "0 bad epochs dropped\n",
      "<Epochs |  160 events (all good), 3 – 7 s, baseline off, ~3.7 MB, data loaded,\n",
      " 'Cue': 160>\n",
      "Computing rank from data with rank=None\n"
     ]
    },
    {
     "name": "stderr",
     "output_type": "stream",
     "text": [
      "C:\\Users\\User\\AppData\\Local\\Temp\\ipykernel_1852\\1230389047.py:66: FutureWarning: The current default of copy=False will change to copy=True in 1.7. Set the value of copy explicitly to avoid this warning\n",
      "  X = epochs.get_data()  # EEG signals: (n_epochs, n_channels, n_times)\n"
     ]
    },
    {
     "name": "stdout",
     "output_type": "stream",
     "text": [
      "    Using tolerance 1.5e-06 (2.2e-16 eps * 3 dim * 2.3e+09  max singular value)\n",
      "    Estimated rank (mag): 3\n",
      "    MAG: rank 3 computed from 3 data channels with 0 projectors\n",
      "Reducing data rank from 3 -> 3\n",
      "Estimating covariance using EMPIRICAL\n",
      "Done.\n",
      "Computing rank from data with rank=None\n",
      "    Using tolerance 1.1e-06 (2.2e-16 eps * 3 dim * 1.6e+09  max singular value)\n",
      "    Estimated rank (mag): 3\n",
      "    MAG: rank 3 computed from 3 data channels with 0 projectors\n",
      "Reducing data rank from 3 -> 3\n",
      "Estimating covariance using EMPIRICAL\n",
      "Done.\n",
      "Extracting EDF parameters from e:\\VU\\11th Semester\\CSE 4212 & CSE 4316 (Thesis - Project)\\Motor Imagery Classification Using EEG Codes in Python\\data\\B0501T.gdf...\n",
      "GDF file detected\n",
      "Setting channel info structure...\n",
      "Could not determine channel type of the following channels, they will be set as EEG:\n",
      "EEG:C3, EEG:Cz, EEG:C4\n",
      "Creating raw.info structure...\n",
      "Reading 0 ... 604802  =      0.000 ...  2419.208 secs...\n"
     ]
    },
    {
     "name": "stderr",
     "output_type": "stream",
     "text": [
      "C:\\Users\\User\\AppData\\Local\\Temp\\ipykernel_1852\\1230389047.py:29: RuntimeWarning: Highpass cutoff frequency 100.0 is greater than lowpass cutoff frequency 0.5, setting values to 0 and Nyquist.\n",
      "  raw = mne.io.read_raw_gdf(file_path, preload=True, eog=['EOG:ch01', 'EOG:ch02', 'EOG:ch03'])\n"
     ]
    },
    {
     "name": "stdout",
     "output_type": "stream",
     "text": [
      "Used Annotations descriptions: ['1023', '1077', '1078', '1079', '1081', '276', '277', '32766', '768', '769', '770']\n",
      "event_iddddd :  {'left_hand': 10, 'right_hand': 11}\n",
      "pppppppp :  5\n",
      "cccccccc :  1\n",
      "Not setting metadata\n",
      "120 matching events found\n",
      "No baseline correction applied\n",
      "0 projection items activated\n",
      "Using data from preloaded Raw for 120 events and 1001 original time points ...\n",
      "0 bad epochs dropped\n",
      "<Epochs |  120 events (all good), 3 – 7 s, baseline off, ~2.8 MB, data loaded,\n",
      " 'left_hand': 60\n",
      " 'right_hand': 60>\n",
      "Extracting EDF parameters from e:\\VU\\11th Semester\\CSE 4212 & CSE 4316 (Thesis - Project)\\Motor Imagery Classification Using EEG Codes in Python\\data\\B0502T.gdf...\n",
      "GDF file detected\n",
      "Setting channel info structure...\n",
      "Could not determine channel type of the following channels, they will be set as EEG:\n",
      "EEG:C3, EEG:Cz, EEG:C4\n",
      "Creating raw.info structure...\n",
      "Reading 0 ... 696265  =      0.000 ...  2785.060 secs...\n"
     ]
    },
    {
     "name": "stderr",
     "output_type": "stream",
     "text": [
      "C:\\Users\\User\\AppData\\Local\\Temp\\ipykernel_1852\\1230389047.py:66: FutureWarning: The current default of copy=False will change to copy=True in 1.7. Set the value of copy explicitly to avoid this warning\n",
      "  X = epochs.get_data()  # EEG signals: (n_epochs, n_channels, n_times)\n",
      "C:\\Users\\User\\AppData\\Local\\Temp\\ipykernel_1852\\1230389047.py:29: RuntimeWarning: Highpass cutoff frequency 100.0 is greater than lowpass cutoff frequency 0.5, setting values to 0 and Nyquist.\n",
      "  raw = mne.io.read_raw_gdf(file_path, preload=True, eog=['EOG:ch01', 'EOG:ch02', 'EOG:ch03'])\n"
     ]
    },
    {
     "name": "stdout",
     "output_type": "stream",
     "text": [
      "Used Annotations descriptions: ['1023', '1077', '1078', '1079', '1081', '276', '277', '32766', '768', '769', '770']\n",
      "event_iddddd :  {'left_hand': 10, 'right_hand': 11}\n",
      "pppppppp :  5\n",
      "cccccccc :  2\n",
      "Not setting metadata\n",
      "140 matching events found\n",
      "No baseline correction applied\n",
      "0 projection items activated\n",
      "Using data from preloaded Raw for 140 events and 1001 original time points ...\n",
      "0 bad epochs dropped\n",
      "<Epochs |  140 events (all good), 3 – 7 s, baseline off, ~3.2 MB, data loaded,\n",
      " 'left_hand': 70\n",
      " 'right_hand': 70>\n",
      "Extracting EDF parameters from e:\\VU\\11th Semester\\CSE 4212 & CSE 4316 (Thesis - Project)\\Motor Imagery Classification Using EEG Codes in Python\\data\\B0503T.gdf...\n",
      "GDF file detected\n",
      "Setting channel info structure...\n",
      "Could not determine channel type of the following channels, they will be set as EEG:\n",
      "EEG:C3, EEG:Cz, EEG:C4\n",
      "Creating raw.info structure...\n",
      "Reading 0 ... 461874  =      0.000 ...  1847.496 secs...\n"
     ]
    },
    {
     "name": "stderr",
     "output_type": "stream",
     "text": [
      "C:\\Users\\User\\AppData\\Local\\Temp\\ipykernel_1852\\1230389047.py:66: FutureWarning: The current default of copy=False will change to copy=True in 1.7. Set the value of copy explicitly to avoid this warning\n",
      "  X = epochs.get_data()  # EEG signals: (n_epochs, n_channels, n_times)\n",
      "C:\\Users\\User\\AppData\\Local\\Temp\\ipykernel_1852\\1230389047.py:29: RuntimeWarning: Highpass cutoff frequency 100.0 is greater than lowpass cutoff frequency 0.5, setting values to 0 and Nyquist.\n",
      "  raw = mne.io.read_raw_gdf(file_path, preload=True, eog=['EOG:ch01', 'EOG:ch02', 'EOG:ch03'])\n"
     ]
    },
    {
     "name": "stdout",
     "output_type": "stream",
     "text": [
      "Used Annotations descriptions: ['1023', '1077', '1078', '1079', '1081', '276', '277', '32766', '768', '769', '770', '781']\n",
      "event_iddddd :  {'left_hand': 10, 'right_hand': 11}\n",
      "pppppppp :  5\n",
      "cccccccc :  3\n",
      "Not setting metadata\n",
      "160 matching events found\n",
      "No baseline correction applied\n",
      "0 projection items activated\n",
      "Using data from preloaded Raw for 160 events and 1001 original time points ...\n",
      "0 bad epochs dropped\n",
      "<Epochs |  160 events (all good), 3 – 7 s, baseline off, ~3.7 MB, data loaded,\n",
      " 'left_hand': 80\n",
      " 'right_hand': 80>\n",
      "Extracting EDF parameters from e:\\VU\\11th Semester\\CSE 4212 & CSE 4316 (Thesis - Project)\\Motor Imagery Classification Using EEG Codes in Python\\data\\B0504E.gdf...\n",
      "GDF file detected\n",
      "Setting channel info structure...\n",
      "Could not determine channel type of the following channels, they will be set as EEG:\n",
      "EEG:C3, EEG:Cz, EEG:C4\n",
      "Creating raw.info structure...\n",
      "Reading 0 ... 417019  =      0.000 ...  1668.076 secs...\n"
     ]
    },
    {
     "name": "stderr",
     "output_type": "stream",
     "text": [
      "C:\\Users\\User\\AppData\\Local\\Temp\\ipykernel_1852\\1230389047.py:66: FutureWarning: The current default of copy=False will change to copy=True in 1.7. Set the value of copy explicitly to avoid this warning\n",
      "  X = epochs.get_data()  # EEG signals: (n_epochs, n_channels, n_times)\n",
      "C:\\Users\\User\\AppData\\Local\\Temp\\ipykernel_1852\\1230389047.py:29: RuntimeWarning: Highpass cutoff frequency 100.0 is greater than lowpass cutoff frequency 0.5, setting values to 0 and Nyquist.\n",
      "  raw = mne.io.read_raw_gdf(file_path, preload=True, eog=['EOG:ch01', 'EOG:ch02', 'EOG:ch03'])\n"
     ]
    },
    {
     "name": "stdout",
     "output_type": "stream",
     "text": [
      "Used Annotations descriptions: ['1023', '32766', '768', '781', '783']\n",
      "event_iddddd :  {'Cue': 4}\n",
      "pppppppp :  5\n",
      "cccccccc :  4\n",
      "Not setting metadata\n",
      "160 matching events found\n",
      "No baseline correction applied\n",
      "0 projection items activated\n",
      "Using data from preloaded Raw for 160 events and 1001 original time points ...\n",
      "0 bad epochs dropped\n",
      "<Epochs |  160 events (all good), 3 – 7 s, baseline off, ~3.7 MB, data loaded,\n",
      " 'Cue': 160>\n",
      "Extracting EDF parameters from e:\\VU\\11th Semester\\CSE 4212 & CSE 4316 (Thesis - Project)\\Motor Imagery Classification Using EEG Codes in Python\\data\\B0505E.gdf...\n",
      "GDF file detected\n",
      "Setting channel info structure...\n",
      "Could not determine channel type of the following channels, they will be set as EEG:\n",
      "EEG:C3, EEG:Cz, EEG:C4\n",
      "Creating raw.info structure...\n",
      "Reading 0 ... 464958  =      0.000 ...  1859.832 secs...\n"
     ]
    },
    {
     "name": "stderr",
     "output_type": "stream",
     "text": [
      "C:\\Users\\User\\AppData\\Local\\Temp\\ipykernel_1852\\1230389047.py:66: FutureWarning: The current default of copy=False will change to copy=True in 1.7. Set the value of copy explicitly to avoid this warning\n",
      "  X = epochs.get_data()  # EEG signals: (n_epochs, n_channels, n_times)\n",
      "C:\\Users\\User\\AppData\\Local\\Temp\\ipykernel_1852\\1230389047.py:29: RuntimeWarning: Highpass cutoff frequency 100.0 is greater than lowpass cutoff frequency 0.5, setting values to 0 and Nyquist.\n",
      "  raw = mne.io.read_raw_gdf(file_path, preload=True, eog=['EOG:ch01', 'EOG:ch02', 'EOG:ch03'])\n"
     ]
    },
    {
     "name": "stdout",
     "output_type": "stream",
     "text": [
      "Used Annotations descriptions: ['1023', '1077', '1078', '1079', '1081', '276', '277', '32766', '768', '781', '783']\n",
      "event_iddddd :  {'Cue': 10}\n",
      "pppppppp :  5\n",
      "cccccccc :  5\n",
      "Not setting metadata\n",
      "160 matching events found\n",
      "No baseline correction applied\n",
      "0 projection items activated\n",
      "Using data from preloaded Raw for 160 events and 1001 original time points ...\n",
      "0 bad epochs dropped\n",
      "<Epochs |  160 events (all good), 3 – 7 s, baseline off, ~3.7 MB, data loaded,\n",
      " 'Cue': 160>\n",
      "Computing rank from data with rank=None\n",
      "    Using tolerance 7.3e-07 (2.2e-16 eps * 3 dim * 1.1e+09  max singular value)\n",
      "    Estimated rank (mag): 3\n",
      "    MAG: rank 3 computed from 3 data channels with 0 projectors\n",
      "Reducing data rank from 3 -> 3\n",
      "Estimating covariance using EMPIRICAL\n",
      "Done.\n",
      "Computing rank from data with rank=None\n",
      "    Using tolerance 1.5e-06 (2.2e-16 eps * 3 dim * 2.2e+09  max singular value)\n",
      "    Estimated rank (mag): 3\n"
     ]
    },
    {
     "name": "stderr",
     "output_type": "stream",
     "text": [
      "C:\\Users\\User\\AppData\\Local\\Temp\\ipykernel_1852\\1230389047.py:66: FutureWarning: The current default of copy=False will change to copy=True in 1.7. Set the value of copy explicitly to avoid this warning\n",
      "  X = epochs.get_data()  # EEG signals: (n_epochs, n_channels, n_times)\n"
     ]
    },
    {
     "name": "stdout",
     "output_type": "stream",
     "text": [
      "    MAG: rank 3 computed from 3 data channels with 0 projectors\n",
      "Reducing data rank from 3 -> 3\n",
      "Estimating covariance using EMPIRICAL\n",
      "Done.\n",
      "Computing rank from data with rank=None\n",
      "    Using tolerance 1.1e-06 (2.2e-16 eps * 3 dim * 1.7e+09  max singular value)\n",
      "    Estimated rank (mag): 3\n",
      "    MAG: rank 3 computed from 3 data channels with 0 projectors\n",
      "Reducing data rank from 3 -> 3\n",
      "Estimating covariance using EMPIRICAL\n",
      "Done.\n",
      "Extracting EDF parameters from e:\\VU\\11th Semester\\CSE 4212 & CSE 4316 (Thesis - Project)\\Motor Imagery Classification Using EEG Codes in Python\\data\\B0601T.gdf...\n",
      "GDF file detected\n",
      "Setting channel info structure...\n",
      "Could not determine channel type of the following channels, they will be set as EEG:\n",
      "EEG:C3, EEG:Cz, EEG:C4\n",
      "Creating raw.info structure...\n",
      "Reading 0 ... 604802  =      0.000 ...  2419.208 secs...\n"
     ]
    },
    {
     "name": "stderr",
     "output_type": "stream",
     "text": [
      "C:\\Users\\User\\AppData\\Local\\Temp\\ipykernel_1852\\1230389047.py:29: RuntimeWarning: Highpass cutoff frequency 100.0 is greater than lowpass cutoff frequency 0.5, setting values to 0 and Nyquist.\n",
      "  raw = mne.io.read_raw_gdf(file_path, preload=True, eog=['EOG:ch01', 'EOG:ch02', 'EOG:ch03'])\n"
     ]
    },
    {
     "name": "stdout",
     "output_type": "stream",
     "text": [
      "Used Annotations descriptions: ['1023', '1077', '1078', '1079', '1081', '276', '277', '32766', '768', '769', '770']\n",
      "event_iddddd :  {'left_hand': 10, 'right_hand': 11}\n",
      "pppppppp :  6\n",
      "cccccccc :  1\n",
      "Not setting metadata\n",
      "120 matching events found\n",
      "No baseline correction applied\n",
      "0 projection items activated\n",
      "Using data from preloaded Raw for 120 events and 1001 original time points ...\n",
      "0 bad epochs dropped\n",
      "<Epochs |  120 events (all good), 3 – 7 s, baseline off, ~2.8 MB, data loaded,\n",
      " 'left_hand': 60\n",
      " 'right_hand': 60>\n",
      "Extracting EDF parameters from e:\\VU\\11th Semester\\CSE 4212 & CSE 4316 (Thesis - Project)\\Motor Imagery Classification Using EEG Codes in Python\\data\\B0602T.gdf...\n",
      "GDF file detected\n",
      "Setting channel info structure...\n",
      "Could not determine channel type of the following channels, they will be set as EEG:\n",
      "EEG:C3, EEG:Cz, EEG:C4\n",
      "Creating raw.info structure...\n",
      "Reading 0 ... 604802  =      0.000 ...  2419.208 secs...\n"
     ]
    },
    {
     "name": "stderr",
     "output_type": "stream",
     "text": [
      "C:\\Users\\User\\AppData\\Local\\Temp\\ipykernel_1852\\1230389047.py:66: FutureWarning: The current default of copy=False will change to copy=True in 1.7. Set the value of copy explicitly to avoid this warning\n",
      "  X = epochs.get_data()  # EEG signals: (n_epochs, n_channels, n_times)\n",
      "C:\\Users\\User\\AppData\\Local\\Temp\\ipykernel_1852\\1230389047.py:29: RuntimeWarning: Highpass cutoff frequency 100.0 is greater than lowpass cutoff frequency 0.5, setting values to 0 and Nyquist.\n",
      "  raw = mne.io.read_raw_gdf(file_path, preload=True, eog=['EOG:ch01', 'EOG:ch02', 'EOG:ch03'])\n"
     ]
    },
    {
     "name": "stdout",
     "output_type": "stream",
     "text": [
      "Used Annotations descriptions: ['1023', '1077', '1078', '1079', '1081', '276', '277', '32766', '768', '769', '770']\n",
      "event_iddddd :  {'left_hand': 10, 'right_hand': 11}\n",
      "pppppppp :  6\n",
      "cccccccc :  2\n",
      "Not setting metadata\n",
      "120 matching events found\n",
      "No baseline correction applied\n",
      "0 projection items activated\n",
      "Using data from preloaded Raw for 120 events and 1001 original time points ...\n",
      "0 bad epochs dropped\n",
      "<Epochs |  120 events (all good), 3 – 7 s, baseline off, ~2.8 MB, data loaded,\n",
      " 'left_hand': 60\n",
      " 'right_hand': 60>\n",
      "Extracting EDF parameters from e:\\VU\\11th Semester\\CSE 4212 & CSE 4316 (Thesis - Project)\\Motor Imagery Classification Using EEG Codes in Python\\data\\B0603T.gdf...\n",
      "GDF file detected\n",
      "Setting channel info structure...\n",
      "Could not determine channel type of the following channels, they will be set as EEG:\n",
      "EEG:C3, EEG:Cz, EEG:C4\n",
      "Creating raw.info structure...\n",
      "Reading 0 ... 470390  =      0.000 ...  1881.560 secs...\n"
     ]
    },
    {
     "name": "stderr",
     "output_type": "stream",
     "text": [
      "C:\\Users\\User\\AppData\\Local\\Temp\\ipykernel_1852\\1230389047.py:66: FutureWarning: The current default of copy=False will change to copy=True in 1.7. Set the value of copy explicitly to avoid this warning\n",
      "  X = epochs.get_data()  # EEG signals: (n_epochs, n_channels, n_times)\n",
      "C:\\Users\\User\\AppData\\Local\\Temp\\ipykernel_1852\\1230389047.py:29: RuntimeWarning: Highpass cutoff frequency 100.0 is greater than lowpass cutoff frequency 0.5, setting values to 0 and Nyquist.\n",
      "  raw = mne.io.read_raw_gdf(file_path, preload=True, eog=['EOG:ch01', 'EOG:ch02', 'EOG:ch03'])\n"
     ]
    },
    {
     "name": "stdout",
     "output_type": "stream",
     "text": [
      "Used Annotations descriptions: ['1023', '1077', '1078', '1079', '1081', '276', '277', '32766', '768', '769', '770', '781']\n",
      "event_iddddd :  {'left_hand': 10, 'right_hand': 11}\n",
      "pppppppp :  6\n",
      "cccccccc :  3\n",
      "Not setting metadata\n",
      "160 matching events found\n",
      "No baseline correction applied\n",
      "0 projection items activated\n",
      "Using data from preloaded Raw for 160 events and 1001 original time points ...\n",
      "0 bad epochs dropped\n",
      "<Epochs |  160 events (all good), 3 – 7 s, baseline off, ~3.7 MB, data loaded,\n",
      " 'left_hand': 80\n",
      " 'right_hand': 80>\n",
      "Extracting EDF parameters from e:\\VU\\11th Semester\\CSE 4212 & CSE 4316 (Thesis - Project)\\Motor Imagery Classification Using EEG Codes in Python\\data\\B0604E.gdf...\n",
      "GDF file detected\n",
      "Setting channel info structure...\n",
      "Could not determine channel type of the following channels, they will be set as EEG:\n",
      "EEG:C3, EEG:Cz, EEG:C4\n",
      "Creating raw.info structure...\n",
      "Reading 0 ... 469990  =      0.000 ...  1879.960 secs...\n"
     ]
    },
    {
     "name": "stderr",
     "output_type": "stream",
     "text": [
      "C:\\Users\\User\\AppData\\Local\\Temp\\ipykernel_1852\\1230389047.py:66: FutureWarning: The current default of copy=False will change to copy=True in 1.7. Set the value of copy explicitly to avoid this warning\n",
      "  X = epochs.get_data()  # EEG signals: (n_epochs, n_channels, n_times)\n",
      "C:\\Users\\User\\AppData\\Local\\Temp\\ipykernel_1852\\1230389047.py:29: RuntimeWarning: Highpass cutoff frequency 100.0 is greater than lowpass cutoff frequency 0.5, setting values to 0 and Nyquist.\n",
      "  raw = mne.io.read_raw_gdf(file_path, preload=True, eog=['EOG:ch01', 'EOG:ch02', 'EOG:ch03'])\n"
     ]
    },
    {
     "name": "stdout",
     "output_type": "stream",
     "text": [
      "Used Annotations descriptions: ['1023', '1077', '1078', '1079', '1081', '276', '277', '32766', '768', '781', '783']\n",
      "event_iddddd :  {'Cue': 10}\n",
      "pppppppp :  6\n",
      "cccccccc :  4\n",
      "Not setting metadata\n",
      "160 matching events found\n",
      "No baseline correction applied\n",
      "0 projection items activated\n",
      "Using data from preloaded Raw for 160 events and 1001 original time points ...\n",
      "0 bad epochs dropped\n",
      "<Epochs |  160 events (all good), 3 – 7 s, baseline off, ~3.7 MB, data loaded,\n",
      " 'Cue': 160>\n",
      "Extracting EDF parameters from e:\\VU\\11th Semester\\CSE 4212 & CSE 4316 (Thesis - Project)\\Motor Imagery Classification Using EEG Codes in Python\\data\\B0605E.gdf...\n",
      "GDF file detected\n",
      "Setting channel info structure...\n",
      "Could not determine channel type of the following channels, they will be set as EEG:\n",
      "EEG:C3, EEG:Cz, EEG:C4\n",
      "Creating raw.info structure...\n",
      "Reading 0 ... 460902  =      0.000 ...  1843.608 secs...\n"
     ]
    },
    {
     "name": "stderr",
     "output_type": "stream",
     "text": [
      "C:\\Users\\User\\AppData\\Local\\Temp\\ipykernel_1852\\1230389047.py:66: FutureWarning: The current default of copy=False will change to copy=True in 1.7. Set the value of copy explicitly to avoid this warning\n",
      "  X = epochs.get_data()  # EEG signals: (n_epochs, n_channels, n_times)\n",
      "C:\\Users\\User\\AppData\\Local\\Temp\\ipykernel_1852\\1230389047.py:29: RuntimeWarning: Highpass cutoff frequency 100.0 is greater than lowpass cutoff frequency 0.5, setting values to 0 and Nyquist.\n",
      "  raw = mne.io.read_raw_gdf(file_path, preload=True, eog=['EOG:ch01', 'EOG:ch02', 'EOG:ch03'])\n"
     ]
    },
    {
     "name": "stdout",
     "output_type": "stream",
     "text": [
      "Used Annotations descriptions: ['1023', '1077', '1078', '1079', '1081', '276', '277', '32766', '768', '781', '783']\n",
      "event_iddddd :  {'Cue': 10}\n",
      "pppppppp :  6\n",
      "cccccccc :  5\n",
      "Not setting metadata\n",
      "160 matching events found\n",
      "No baseline correction applied\n",
      "0 projection items activated\n",
      "Using data from preloaded Raw for 160 events and 1001 original time points ...\n",
      "0 bad epochs dropped\n",
      "<Epochs |  160 events (all good), 3 – 7 s, baseline off, ~3.7 MB, data loaded,\n",
      " 'Cue': 160>\n",
      "Computing rank from data with rank=None\n",
      "    Using tolerance 2.8e-06 (2.2e-16 eps * 3 dim * 4.1e+09  max singular value)\n",
      "    Estimated rank (mag): 3\n",
      "    MAG: rank 3 computed from 3 data channels with 0 projectors\n",
      "Reducing data rank from 3 -> 3\n",
      "Estimating covariance using EMPIRICAL\n",
      "Done.\n",
      "Computing rank from data with rank=None\n",
      "    Using tolerance 1.6e-06 (2.2e-16 eps * 3 dim * 2.4e+09  max singular value)\n",
      "    Estimated rank (mag): 3\n"
     ]
    },
    {
     "name": "stderr",
     "output_type": "stream",
     "text": [
      "C:\\Users\\User\\AppData\\Local\\Temp\\ipykernel_1852\\1230389047.py:66: FutureWarning: The current default of copy=False will change to copy=True in 1.7. Set the value of copy explicitly to avoid this warning\n",
      "  X = epochs.get_data()  # EEG signals: (n_epochs, n_channels, n_times)\n"
     ]
    },
    {
     "name": "stdout",
     "output_type": "stream",
     "text": [
      "    MAG: rank 3 computed from 3 data channels with 0 projectors\n",
      "Reducing data rank from 3 -> 3\n",
      "Estimating covariance using EMPIRICAL\n",
      "Done.\n",
      "Extracting EDF parameters from e:\\VU\\11th Semester\\CSE 4212 & CSE 4316 (Thesis - Project)\\Motor Imagery Classification Using EEG Codes in Python\\data\\B0701T.gdf...\n",
      "GDF file detected\n",
      "Setting channel info structure...\n",
      "Could not determine channel type of the following channels, they will be set as EEG:\n",
      "EEG:C3, EEG:Cz, EEG:C4\n",
      "Creating raw.info structure...\n",
      "Reading 0 ... 604802  =      0.000 ...  2419.208 secs...\n"
     ]
    },
    {
     "name": "stderr",
     "output_type": "stream",
     "text": [
      "C:\\Users\\User\\AppData\\Local\\Temp\\ipykernel_1852\\1230389047.py:29: RuntimeWarning: Highpass cutoff frequency 100.0 is greater than lowpass cutoff frequency 0.5, setting values to 0 and Nyquist.\n",
      "  raw = mne.io.read_raw_gdf(file_path, preload=True, eog=['EOG:ch01', 'EOG:ch02', 'EOG:ch03'])\n"
     ]
    },
    {
     "name": "stdout",
     "output_type": "stream",
     "text": [
      "Used Annotations descriptions: ['1023', '1077', '1078', '1079', '1081', '276', '277', '32766', '768', '769', '770']\n",
      "event_iddddd :  {'left_hand': 10, 'right_hand': 11}\n",
      "pppppppp :  7\n",
      "cccccccc :  1\n",
      "Not setting metadata\n",
      "120 matching events found\n",
      "No baseline correction applied\n",
      "0 projection items activated\n",
      "Using data from preloaded Raw for 120 events and 1001 original time points ...\n",
      "0 bad epochs dropped\n",
      "<Epochs |  120 events (all good), 3 – 7 s, baseline off, ~2.8 MB, data loaded,\n",
      " 'left_hand': 60\n",
      " 'right_hand': 60>\n"
     ]
    },
    {
     "name": "stderr",
     "output_type": "stream",
     "text": [
      "C:\\Users\\User\\AppData\\Local\\Temp\\ipykernel_1852\\1230389047.py:66: FutureWarning: The current default of copy=False will change to copy=True in 1.7. Set the value of copy explicitly to avoid this warning\n",
      "  X = epochs.get_data()  # EEG signals: (n_epochs, n_channels, n_times)\n"
     ]
    },
    {
     "name": "stdout",
     "output_type": "stream",
     "text": [
      "Extracting EDF parameters from e:\\VU\\11th Semester\\CSE 4212 & CSE 4316 (Thesis - Project)\\Motor Imagery Classification Using EEG Codes in Python\\data\\B0702T.gdf...\n",
      "GDF file detected\n",
      "Setting channel info structure...\n",
      "Could not determine channel type of the following channels, they will be set as EEG:\n",
      "EEG:C3, EEG:Cz, EEG:C4\n",
      "Creating raw.info structure...\n",
      "Reading 0 ... 604802  =      0.000 ...  2419.208 secs...\n"
     ]
    },
    {
     "name": "stderr",
     "output_type": "stream",
     "text": [
      "C:\\Users\\User\\AppData\\Local\\Temp\\ipykernel_1852\\1230389047.py:29: RuntimeWarning: Highpass cutoff frequency 100.0 is greater than lowpass cutoff frequency 0.5, setting values to 0 and Nyquist.\n",
      "  raw = mne.io.read_raw_gdf(file_path, preload=True, eog=['EOG:ch01', 'EOG:ch02', 'EOG:ch03'])\n"
     ]
    },
    {
     "name": "stdout",
     "output_type": "stream",
     "text": [
      "Used Annotations descriptions: ['1023', '1077', '1078', '1079', '1081', '276', '277', '32766', '768', '769', '770']\n",
      "event_iddddd :  {'left_hand': 10, 'right_hand': 11}\n",
      "pppppppp :  7\n",
      "cccccccc :  2\n",
      "Not setting metadata\n",
      "120 matching events found\n",
      "No baseline correction applied\n",
      "0 projection items activated\n",
      "Using data from preloaded Raw for 120 events and 1001 original time points ...\n",
      "0 bad epochs dropped\n",
      "<Epochs |  120 events (all good), 3 – 7 s, baseline off, ~2.8 MB, data loaded,\n",
      " 'left_hand': 60\n",
      " 'right_hand': 60>\n",
      "Extracting EDF parameters from e:\\VU\\11th Semester\\CSE 4212 & CSE 4316 (Thesis - Project)\\Motor Imagery Classification Using EEG Codes in Python\\data\\B0703T.gdf...\n",
      "GDF file detected\n",
      "Setting channel info structure...\n",
      "Could not determine channel type of the following channels, they will be set as EEG:\n",
      "EEG:C3, EEG:Cz, EEG:C4\n",
      "Creating raw.info structure...\n",
      "Reading 0 ... 466726  =      0.000 ...  1866.904 secs...\n"
     ]
    },
    {
     "name": "stderr",
     "output_type": "stream",
     "text": [
      "C:\\Users\\User\\AppData\\Local\\Temp\\ipykernel_1852\\1230389047.py:66: FutureWarning: The current default of copy=False will change to copy=True in 1.7. Set the value of copy explicitly to avoid this warning\n",
      "  X = epochs.get_data()  # EEG signals: (n_epochs, n_channels, n_times)\n",
      "C:\\Users\\User\\AppData\\Local\\Temp\\ipykernel_1852\\1230389047.py:29: RuntimeWarning: Highpass cutoff frequency 100.0 is greater than lowpass cutoff frequency 0.5, setting values to 0 and Nyquist.\n",
      "  raw = mne.io.read_raw_gdf(file_path, preload=True, eog=['EOG:ch01', 'EOG:ch02', 'EOG:ch03'])\n"
     ]
    },
    {
     "name": "stdout",
     "output_type": "stream",
     "text": [
      "Used Annotations descriptions: ['1023', '1077', '1078', '1079', '1081', '276', '277', '32766', '768', '769', '770', '781']\n",
      "event_iddddd :  {'left_hand': 10, 'right_hand': 11}\n",
      "pppppppp :  7\n",
      "cccccccc :  3\n",
      "Not setting metadata\n",
      "160 matching events found\n",
      "No baseline correction applied\n",
      "0 projection items activated\n",
      "Using data from preloaded Raw for 160 events and 1001 original time points ...\n",
      "0 bad epochs dropped\n",
      "<Epochs |  160 events (all good), 3 – 7 s, baseline off, ~3.7 MB, data loaded,\n",
      " 'left_hand': 80\n",
      " 'right_hand': 80>\n",
      "Extracting EDF parameters from e:\\VU\\11th Semester\\CSE 4212 & CSE 4316 (Thesis - Project)\\Motor Imagery Classification Using EEG Codes in Python\\data\\B0704E.gdf...\n",
      "GDF file detected\n",
      "Setting channel info structure...\n",
      "Could not determine channel type of the following channels, they will be set as EEG:\n",
      "EEG:C3, EEG:Cz, EEG:C4\n",
      "Creating raw.info structure...\n",
      "Reading 0 ... 470343  =      0.000 ...  1881.372 secs...\n"
     ]
    },
    {
     "name": "stderr",
     "output_type": "stream",
     "text": [
      "C:\\Users\\User\\AppData\\Local\\Temp\\ipykernel_1852\\1230389047.py:66: FutureWarning: The current default of copy=False will change to copy=True in 1.7. Set the value of copy explicitly to avoid this warning\n",
      "  X = epochs.get_data()  # EEG signals: (n_epochs, n_channels, n_times)\n",
      "C:\\Users\\User\\AppData\\Local\\Temp\\ipykernel_1852\\1230389047.py:29: RuntimeWarning: Highpass cutoff frequency 100.0 is greater than lowpass cutoff frequency 0.5, setting values to 0 and Nyquist.\n",
      "  raw = mne.io.read_raw_gdf(file_path, preload=True, eog=['EOG:ch01', 'EOG:ch02', 'EOG:ch03'])\n"
     ]
    },
    {
     "name": "stdout",
     "output_type": "stream",
     "text": [
      "Used Annotations descriptions: ['1023', '1077', '1078', '1079', '1081', '276', '277', '32766', '768', '781', '783']\n",
      "event_iddddd :  {'Cue': 10}\n",
      "pppppppp :  7\n",
      "cccccccc :  4\n",
      "Not setting metadata\n",
      "160 matching events found\n",
      "No baseline correction applied\n",
      "0 projection items activated\n",
      "Using data from preloaded Raw for 160 events and 1001 original time points ...\n",
      "0 bad epochs dropped\n",
      "<Epochs |  160 events (all good), 3 – 7 s, baseline off, ~3.7 MB, data loaded,\n",
      " 'Cue': 160>\n",
      "Extracting EDF parameters from e:\\VU\\11th Semester\\CSE 4212 & CSE 4316 (Thesis - Project)\\Motor Imagery Classification Using EEG Codes in Python\\data\\B0705E.gdf...\n",
      "GDF file detected\n",
      "Setting channel info structure...\n",
      "Could not determine channel type of the following channels, they will be set as EEG:\n",
      "EEG:C3, EEG:Cz, EEG:C4\n",
      "Creating raw.info structure...\n",
      "Reading 0 ... 460894  =      0.000 ...  1843.576 secs...\n"
     ]
    },
    {
     "name": "stderr",
     "output_type": "stream",
     "text": [
      "C:\\Users\\User\\AppData\\Local\\Temp\\ipykernel_1852\\1230389047.py:66: FutureWarning: The current default of copy=False will change to copy=True in 1.7. Set the value of copy explicitly to avoid this warning\n",
      "  X = epochs.get_data()  # EEG signals: (n_epochs, n_channels, n_times)\n",
      "C:\\Users\\User\\AppData\\Local\\Temp\\ipykernel_1852\\1230389047.py:29: RuntimeWarning: Highpass cutoff frequency 100.0 is greater than lowpass cutoff frequency 0.5, setting values to 0 and Nyquist.\n",
      "  raw = mne.io.read_raw_gdf(file_path, preload=True, eog=['EOG:ch01', 'EOG:ch02', 'EOG:ch03'])\n"
     ]
    },
    {
     "name": "stdout",
     "output_type": "stream",
     "text": [
      "Used Annotations descriptions: ['1023', '1077', '1078', '1079', '1081', '276', '277', '32766', '768', '781', '783']\n",
      "event_iddddd :  {'Cue': 10}\n",
      "pppppppp :  7\n",
      "cccccccc :  5\n",
      "Not setting metadata\n",
      "160 matching events found\n",
      "No baseline correction applied\n",
      "0 projection items activated\n",
      "Using data from preloaded Raw for 160 events and 1001 original time points ...\n",
      "0 bad epochs dropped\n",
      "<Epochs |  160 events (all good), 3 – 7 s, baseline off, ~3.7 MB, data loaded,\n",
      " 'Cue': 160>\n",
      "Computing rank from data with rank=None\n",
      "    Using tolerance 8.9e-07 (2.2e-16 eps * 3 dim * 1.3e+09  max singular value)\n",
      "    Estimated rank (mag): 3\n",
      "    MAG: rank 3 computed from 3 data channels with 0 projectors\n"
     ]
    },
    {
     "name": "stderr",
     "output_type": "stream",
     "text": [
      "C:\\Users\\User\\AppData\\Local\\Temp\\ipykernel_1852\\1230389047.py:66: FutureWarning: The current default of copy=False will change to copy=True in 1.7. Set the value of copy explicitly to avoid this warning\n",
      "  X = epochs.get_data()  # EEG signals: (n_epochs, n_channels, n_times)\n"
     ]
    },
    {
     "name": "stdout",
     "output_type": "stream",
     "text": [
      "Reducing data rank from 3 -> 3\n",
      "Estimating covariance using EMPIRICAL\n",
      "Done.\n",
      "Computing rank from data with rank=None\n",
      "    Using tolerance 5.4e-07 (2.2e-16 eps * 3 dim * 8e+08  max singular value)\n",
      "    Estimated rank (mag): 3\n",
      "    MAG: rank 3 computed from 3 data channels with 0 projectors\n",
      "Reducing data rank from 3 -> 3\n",
      "Estimating covariance using EMPIRICAL\n",
      "Done.\n",
      "Extracting EDF parameters from e:\\VU\\11th Semester\\CSE 4212 & CSE 4316 (Thesis - Project)\\Motor Imagery Classification Using EEG Codes in Python\\data\\B0801T.gdf...\n",
      "GDF file detected\n",
      "Setting channel info structure...\n",
      "Could not determine channel type of the following channels, they will be set as EEG:\n",
      "EEG:C3, EEG:Cz, EEG:C4\n",
      "Creating raw.info structure...\n",
      "Reading 0 ... 787728  =      0.000 ...  3150.912 secs...\n"
     ]
    },
    {
     "name": "stderr",
     "output_type": "stream",
     "text": [
      "C:\\Users\\User\\AppData\\Local\\Temp\\ipykernel_1852\\1230389047.py:29: RuntimeWarning: Highpass cutoff frequency 100.0 is greater than lowpass cutoff frequency 0.5, setting values to 0 and Nyquist.\n",
      "  raw = mne.io.read_raw_gdf(file_path, preload=True, eog=['EOG:ch01', 'EOG:ch02', 'EOG:ch03'])\n"
     ]
    },
    {
     "name": "stdout",
     "output_type": "stream",
     "text": [
      "Used Annotations descriptions: ['1023', '1077', '1078', '1079', '1081', '276', '277', '32766', '768', '769', '770']\n",
      "event_iddddd :  {'left_hand': 10, 'right_hand': 11}\n",
      "pppppppp :  8\n",
      "cccccccc :  1\n",
      "Not setting metadata\n",
      "160 matching events found\n",
      "No baseline correction applied\n",
      "0 projection items activated\n",
      "Using data from preloaded Raw for 160 events and 1001 original time points ...\n",
      "0 bad epochs dropped\n",
      "<Epochs |  160 events (all good), 3 – 7 s, baseline off, ~3.7 MB, data loaded,\n",
      " 'left_hand': 80\n",
      " 'right_hand': 80>\n",
      "Extracting EDF parameters from e:\\VU\\11th Semester\\CSE 4212 & CSE 4316 (Thesis - Project)\\Motor Imagery Classification Using EEG Codes in Python\\data\\B0802T.gdf...\n",
      "GDF file detected\n",
      "Setting channel info structure...\n",
      "Could not determine channel type of the following channels, they will be set as EEG:\n",
      "EEG:C3, EEG:Cz, EEG:C4\n",
      "Creating raw.info structure...\n",
      "Reading 0 ... 604802  =      0.000 ...  2419.208 secs...\n"
     ]
    },
    {
     "name": "stderr",
     "output_type": "stream",
     "text": [
      "C:\\Users\\User\\AppData\\Local\\Temp\\ipykernel_1852\\1230389047.py:66: FutureWarning: The current default of copy=False will change to copy=True in 1.7. Set the value of copy explicitly to avoid this warning\n",
      "  X = epochs.get_data()  # EEG signals: (n_epochs, n_channels, n_times)\n",
      "C:\\Users\\User\\AppData\\Local\\Temp\\ipykernel_1852\\1230389047.py:29: RuntimeWarning: Highpass cutoff frequency 100.0 is greater than lowpass cutoff frequency 0.5, setting values to 0 and Nyquist.\n",
      "  raw = mne.io.read_raw_gdf(file_path, preload=True, eog=['EOG:ch01', 'EOG:ch02', 'EOG:ch03'])\n"
     ]
    },
    {
     "name": "stdout",
     "output_type": "stream",
     "text": [
      "Used Annotations descriptions: ['1023', '1077', '1078', '1079', '1081', '276', '277', '32766', '768', '769', '770']\n",
      "event_iddddd :  {'left_hand': 10, 'right_hand': 11}\n",
      "pppppppp :  8\n",
      "cccccccc :  2\n",
      "Not setting metadata\n",
      "120 matching events found\n",
      "No baseline correction applied\n",
      "0 projection items activated\n",
      "Using data from preloaded Raw for 120 events and 1001 original time points ...\n",
      "0 bad epochs dropped\n",
      "<Epochs |  120 events (all good), 3 – 7 s, baseline off, ~2.8 MB, data loaded,\n",
      " 'left_hand': 60\n",
      " 'right_hand': 60>\n",
      "Extracting EDF parameters from e:\\VU\\11th Semester\\CSE 4212 & CSE 4316 (Thesis - Project)\\Motor Imagery Classification Using EEG Codes in Python\\data\\B0803T.gdf...\n",
      "GDF file detected\n",
      "Setting channel info structure...\n",
      "Could not determine channel type of the following channels, they will be set as EEG:\n",
      "EEG:C3, EEG:Cz, EEG:C4\n",
      "Creating raw.info structure...\n",
      "Reading 0 ... 474834  =      0.000 ...  1899.336 secs...\n"
     ]
    },
    {
     "name": "stderr",
     "output_type": "stream",
     "text": [
      "C:\\Users\\User\\AppData\\Local\\Temp\\ipykernel_1852\\1230389047.py:66: FutureWarning: The current default of copy=False will change to copy=True in 1.7. Set the value of copy explicitly to avoid this warning\n",
      "  X = epochs.get_data()  # EEG signals: (n_epochs, n_channels, n_times)\n",
      "C:\\Users\\User\\AppData\\Local\\Temp\\ipykernel_1852\\1230389047.py:29: RuntimeWarning: Highpass cutoff frequency 100.0 is greater than lowpass cutoff frequency 0.5, setting values to 0 and Nyquist.\n",
      "  raw = mne.io.read_raw_gdf(file_path, preload=True, eog=['EOG:ch01', 'EOG:ch02', 'EOG:ch03'])\n"
     ]
    },
    {
     "name": "stdout",
     "output_type": "stream",
     "text": [
      "Used Annotations descriptions: ['1023', '1077', '1078', '1079', '1081', '276', '277', '32766', '768', '769', '770', '781']\n",
      "event_iddddd :  {'left_hand': 10, 'right_hand': 11}\n",
      "pppppppp :  8\n",
      "cccccccc :  3\n",
      "Not setting metadata\n",
      "160 matching events found\n",
      "No baseline correction applied\n",
      "0 projection items activated\n",
      "Using data from preloaded Raw for 160 events and 1001 original time points ...\n",
      "0 bad epochs dropped\n",
      "<Epochs |  160 events (all good), 3 – 7 s, baseline off, ~3.7 MB, data loaded,\n",
      " 'left_hand': 80\n",
      " 'right_hand': 80>\n",
      "Extracting EDF parameters from e:\\VU\\11th Semester\\CSE 4212 & CSE 4316 (Thesis - Project)\\Motor Imagery Classification Using EEG Codes in Python\\data\\B0804E.gdf...\n",
      "GDF file detected\n",
      "Setting channel info structure...\n",
      "Could not determine channel type of the following channels, they will be set as EEG:\n",
      "EEG:C3, EEG:Cz, EEG:C4\n",
      "Creating raw.info structure...\n",
      "Reading 0 ... 474834  =      0.000 ...  1899.336 secs...\n"
     ]
    },
    {
     "name": "stderr",
     "output_type": "stream",
     "text": [
      "C:\\Users\\User\\AppData\\Local\\Temp\\ipykernel_1852\\1230389047.py:66: FutureWarning: The current default of copy=False will change to copy=True in 1.7. Set the value of copy explicitly to avoid this warning\n",
      "  X = epochs.get_data()  # EEG signals: (n_epochs, n_channels, n_times)\n",
      "C:\\Users\\User\\AppData\\Local\\Temp\\ipykernel_1852\\1230389047.py:29: RuntimeWarning: Highpass cutoff frequency 100.0 is greater than lowpass cutoff frequency 0.5, setting values to 0 and Nyquist.\n",
      "  raw = mne.io.read_raw_gdf(file_path, preload=True, eog=['EOG:ch01', 'EOG:ch02', 'EOG:ch03'])\n"
     ]
    },
    {
     "name": "stdout",
     "output_type": "stream",
     "text": [
      "Used Annotations descriptions: ['1023', '1077', '1078', '1079', '1081', '276', '277', '32766', '768', '781', '783']\n",
      "event_iddddd :  {'Cue': 10}\n",
      "pppppppp :  8\n",
      "cccccccc :  4\n",
      "Not setting metadata\n",
      "160 matching events found\n",
      "No baseline correction applied\n",
      "0 projection items activated\n",
      "Using data from preloaded Raw for 160 events and 1001 original time points ...\n",
      "0 bad epochs dropped\n",
      "<Epochs |  160 events (all good), 3 – 7 s, baseline off, ~3.7 MB, data loaded,\n",
      " 'Cue': 160>\n",
      "Extracting EDF parameters from e:\\VU\\11th Semester\\CSE 4212 & CSE 4316 (Thesis - Project)\\Motor Imagery Classification Using EEG Codes in Python\\data\\B0805E.gdf...\n",
      "GDF file detected\n",
      "Setting channel info structure...\n",
      "Could not determine channel type of the following channels, they will be set as EEG:\n",
      "EEG:C3, EEG:Cz, EEG:C4\n",
      "Creating raw.info structure...\n",
      "Reading 0 ... 464306  =      0.000 ...  1857.224 secs...\n"
     ]
    },
    {
     "name": "stderr",
     "output_type": "stream",
     "text": [
      "C:\\Users\\User\\AppData\\Local\\Temp\\ipykernel_1852\\1230389047.py:66: FutureWarning: The current default of copy=False will change to copy=True in 1.7. Set the value of copy explicitly to avoid this warning\n",
      "  X = epochs.get_data()  # EEG signals: (n_epochs, n_channels, n_times)\n",
      "C:\\Users\\User\\AppData\\Local\\Temp\\ipykernel_1852\\1230389047.py:29: RuntimeWarning: Highpass cutoff frequency 100.0 is greater than lowpass cutoff frequency 0.5, setting values to 0 and Nyquist.\n",
      "  raw = mne.io.read_raw_gdf(file_path, preload=True, eog=['EOG:ch01', 'EOG:ch02', 'EOG:ch03'])\n"
     ]
    },
    {
     "name": "stdout",
     "output_type": "stream",
     "text": [
      "Used Annotations descriptions: ['1023', '1077', '1078', '1079', '1081', '276', '277', '32766', '768', '781', '783']\n",
      "event_iddddd :  {'Cue': 10}\n",
      "pppppppp :  8\n",
      "cccccccc :  5\n",
      "Not setting metadata\n",
      "160 matching events found\n",
      "No baseline correction applied\n",
      "0 projection items activated\n",
      "Using data from preloaded Raw for 160 events and 1001 original time points ...\n",
      "0 bad epochs dropped\n",
      "<Epochs |  160 events (all good), 3 – 7 s, baseline off, ~3.7 MB, data loaded,\n",
      " 'Cue': 160>\n",
      "Computing rank from data with rank=None\n",
      "    Using tolerance 2e-06 (2.2e-16 eps * 3 dim * 2.9e+09  max singular value)\n",
      "    Estimated rank (mag): 3\n",
      "    MAG: rank 3 computed from 3 data channels with 0 projectors\n",
      "Reducing data rank from 3 -> 3\n",
      "Estimating covariance using EMPIRICAL\n",
      "Done.\n",
      "Computing rank from data with rank=None\n",
      "    Using tolerance 1.4e-06 (2.2e-16 eps * 3 dim * 2.1e+09  max singular value)\n"
     ]
    },
    {
     "name": "stderr",
     "output_type": "stream",
     "text": [
      "C:\\Users\\User\\AppData\\Local\\Temp\\ipykernel_1852\\1230389047.py:66: FutureWarning: The current default of copy=False will change to copy=True in 1.7. Set the value of copy explicitly to avoid this warning\n",
      "  X = epochs.get_data()  # EEG signals: (n_epochs, n_channels, n_times)\n"
     ]
    },
    {
     "name": "stdout",
     "output_type": "stream",
     "text": [
      "    Estimated rank (mag): 3\n",
      "    MAG: rank 3 computed from 3 data channels with 0 projectors\n",
      "Reducing data rank from 3 -> 3\n",
      "Estimating covariance using EMPIRICAL\n",
      "Done.\n",
      "Extracting EDF parameters from e:\\VU\\11th Semester\\CSE 4212 & CSE 4316 (Thesis - Project)\\Motor Imagery Classification Using EEG Codes in Python\\data\\B0901T.gdf...\n",
      "GDF file detected\n",
      "Setting channel info structure...\n",
      "Could not determine channel type of the following channels, they will be set as EEG:\n",
      "EEG:C3, EEG:Cz, EEG:C4\n",
      "Creating raw.info structure...\n",
      "Reading 0 ... 604802  =      0.000 ...  2419.208 secs...\n"
     ]
    },
    {
     "name": "stderr",
     "output_type": "stream",
     "text": [
      "C:\\Users\\User\\AppData\\Local\\Temp\\ipykernel_1852\\1230389047.py:29: RuntimeWarning: Highpass cutoff frequency 100.0 is greater than lowpass cutoff frequency 0.5, setting values to 0 and Nyquist.\n",
      "  raw = mne.io.read_raw_gdf(file_path, preload=True, eog=['EOG:ch01', 'EOG:ch02', 'EOG:ch03'])\n"
     ]
    },
    {
     "name": "stdout",
     "output_type": "stream",
     "text": [
      "Used Annotations descriptions: ['1023', '1077', '1078', '1079', '1081', '276', '277', '32766', '768', '769', '770']\n",
      "event_iddddd :  {'left_hand': 10, 'right_hand': 11}\n",
      "pppppppp :  9\n",
      "cccccccc :  1\n",
      "Not setting metadata\n",
      "120 matching events found\n",
      "No baseline correction applied\n",
      "0 projection items activated\n",
      "Using data from preloaded Raw for 120 events and 1001 original time points ...\n",
      "0 bad epochs dropped\n",
      "<Epochs |  120 events (all good), 3 – 7 s, baseline off, ~2.8 MB, data loaded,\n",
      " 'left_hand': 60\n",
      " 'right_hand': 60>\n",
      "Extracting EDF parameters from e:\\VU\\11th Semester\\CSE 4212 & CSE 4316 (Thesis - Project)\\Motor Imagery Classification Using EEG Codes in Python\\data\\B0902T.gdf...\n",
      "GDF file detected\n",
      "Setting channel info structure...\n",
      "Could not determine channel type of the following channels, they will be set as EEG:\n",
      "EEG:C3, EEG:Cz, EEG:C4\n",
      "Creating raw.info structure...\n",
      "Reading 0 ... 604802  =      0.000 ...  2419.208 secs...\n"
     ]
    },
    {
     "name": "stderr",
     "output_type": "stream",
     "text": [
      "C:\\Users\\User\\AppData\\Local\\Temp\\ipykernel_1852\\1230389047.py:66: FutureWarning: The current default of copy=False will change to copy=True in 1.7. Set the value of copy explicitly to avoid this warning\n",
      "  X = epochs.get_data()  # EEG signals: (n_epochs, n_channels, n_times)\n",
      "C:\\Users\\User\\AppData\\Local\\Temp\\ipykernel_1852\\1230389047.py:29: RuntimeWarning: Highpass cutoff frequency 100.0 is greater than lowpass cutoff frequency 0.5, setting values to 0 and Nyquist.\n",
      "  raw = mne.io.read_raw_gdf(file_path, preload=True, eog=['EOG:ch01', 'EOG:ch02', 'EOG:ch03'])\n"
     ]
    },
    {
     "name": "stdout",
     "output_type": "stream",
     "text": [
      "Used Annotations descriptions: ['1023', '1077', '1078', '1079', '1081', '276', '277', '32766', '768', '769', '770']\n",
      "event_iddddd :  {'left_hand': 10, 'right_hand': 11}\n",
      "pppppppp :  9\n",
      "cccccccc :  2\n",
      "Not setting metadata\n",
      "120 matching events found\n",
      "No baseline correction applied\n",
      "0 projection items activated\n",
      "Using data from preloaded Raw for 120 events and 1001 original time points ...\n",
      "0 bad epochs dropped\n",
      "<Epochs |  120 events (all good), 3 – 7 s, baseline off, ~2.8 MB, data loaded,\n",
      " 'left_hand': 60\n",
      " 'right_hand': 60>\n",
      "Extracting EDF parameters from e:\\VU\\11th Semester\\CSE 4212 & CSE 4316 (Thesis - Project)\\Motor Imagery Classification Using EEG Codes in Python\\data\\B0903T.gdf...\n",
      "GDF file detected\n",
      "Setting channel info structure...\n",
      "Could not determine channel type of the following channels, they will be set as EEG:\n",
      "EEG:C3, EEG:Cz, EEG:C4\n",
      "Creating raw.info structure...\n",
      "Reading 0 ... 460730  =      0.000 ...  1842.920 secs...\n"
     ]
    },
    {
     "name": "stderr",
     "output_type": "stream",
     "text": [
      "C:\\Users\\User\\AppData\\Local\\Temp\\ipykernel_1852\\1230389047.py:66: FutureWarning: The current default of copy=False will change to copy=True in 1.7. Set the value of copy explicitly to avoid this warning\n",
      "  X = epochs.get_data()  # EEG signals: (n_epochs, n_channels, n_times)\n",
      "C:\\Users\\User\\AppData\\Local\\Temp\\ipykernel_1852\\1230389047.py:29: RuntimeWarning: Highpass cutoff frequency 100.0 is greater than lowpass cutoff frequency 0.5, setting values to 0 and Nyquist.\n",
      "  raw = mne.io.read_raw_gdf(file_path, preload=True, eog=['EOG:ch01', 'EOG:ch02', 'EOG:ch03'])\n"
     ]
    },
    {
     "name": "stdout",
     "output_type": "stream",
     "text": [
      "Used Annotations descriptions: ['1023', '1077', '1078', '1079', '1081', '276', '277', '32766', '768', '769', '770', '781']\n",
      "event_iddddd :  {'left_hand': 10, 'right_hand': 11}\n",
      "pppppppp :  9\n",
      "cccccccc :  3\n",
      "Not setting metadata\n",
      "160 matching events found\n",
      "No baseline correction applied\n",
      "0 projection items activated\n",
      "Using data from preloaded Raw for 160 events and 1001 original time points ...\n",
      "0 bad epochs dropped\n",
      "<Epochs |  160 events (all good), 3 – 7 s, baseline off, ~3.7 MB, data loaded,\n",
      " 'left_hand': 80\n",
      " 'right_hand': 80>\n",
      "Extracting EDF parameters from e:\\VU\\11th Semester\\CSE 4212 & CSE 4316 (Thesis - Project)\\Motor Imagery Classification Using EEG Codes in Python\\data\\B0904E.gdf...\n",
      "GDF file detected\n",
      "Setting channel info structure...\n",
      "Could not determine channel type of the following channels, they will be set as EEG:\n",
      "EEG:C3, EEG:Cz, EEG:C4\n",
      "Creating raw.info structure...\n",
      "Reading 0 ... 466802  =      0.000 ...  1867.208 secs...\n"
     ]
    },
    {
     "name": "stderr",
     "output_type": "stream",
     "text": [
      "C:\\Users\\User\\AppData\\Local\\Temp\\ipykernel_1852\\1230389047.py:66: FutureWarning: The current default of copy=False will change to copy=True in 1.7. Set the value of copy explicitly to avoid this warning\n",
      "  X = epochs.get_data()  # EEG signals: (n_epochs, n_channels, n_times)\n",
      "C:\\Users\\User\\AppData\\Local\\Temp\\ipykernel_1852\\1230389047.py:29: RuntimeWarning: Highpass cutoff frequency 100.0 is greater than lowpass cutoff frequency 0.5, setting values to 0 and Nyquist.\n",
      "  raw = mne.io.read_raw_gdf(file_path, preload=True, eog=['EOG:ch01', 'EOG:ch02', 'EOG:ch03'])\n"
     ]
    },
    {
     "name": "stdout",
     "output_type": "stream",
     "text": [
      "Used Annotations descriptions: ['1023', '1077', '1078', '1079', '1081', '276', '277', '32766', '768', '781', '783']\n",
      "event_iddddd :  {'Cue': 10}\n",
      "pppppppp :  9\n",
      "cccccccc :  4\n",
      "Not setting metadata\n",
      "160 matching events found\n",
      "No baseline correction applied\n",
      "0 projection items activated\n",
      "Using data from preloaded Raw for 160 events and 1001 original time points ...\n",
      "0 bad epochs dropped\n",
      "<Epochs |  160 events (all good), 3 – 7 s, baseline off, ~3.7 MB, data loaded,\n",
      " 'Cue': 160>\n",
      "Extracting EDF parameters from e:\\VU\\11th Semester\\CSE 4212 & CSE 4316 (Thesis - Project)\\Motor Imagery Classification Using EEG Codes in Python\\data\\B0905E.gdf...\n",
      "GDF file detected\n",
      "Setting channel info structure...\n",
      "Could not determine channel type of the following channels, they will be set as EEG:\n",
      "EEG:C3, EEG:Cz, EEG:C4\n",
      "Creating raw.info structure...\n",
      "Reading 0 ... 458570  =      0.000 ...  1834.280 secs...\n"
     ]
    },
    {
     "name": "stderr",
     "output_type": "stream",
     "text": [
      "C:\\Users\\User\\AppData\\Local\\Temp\\ipykernel_1852\\1230389047.py:66: FutureWarning: The current default of copy=False will change to copy=True in 1.7. Set the value of copy explicitly to avoid this warning\n",
      "  X = epochs.get_data()  # EEG signals: (n_epochs, n_channels, n_times)\n",
      "C:\\Users\\User\\AppData\\Local\\Temp\\ipykernel_1852\\1230389047.py:29: RuntimeWarning: Highpass cutoff frequency 100.0 is greater than lowpass cutoff frequency 0.5, setting values to 0 and Nyquist.\n",
      "  raw = mne.io.read_raw_gdf(file_path, preload=True, eog=['EOG:ch01', 'EOG:ch02', 'EOG:ch03'])\n"
     ]
    },
    {
     "name": "stdout",
     "output_type": "stream",
     "text": [
      "Used Annotations descriptions: ['1023', '1077', '1078', '1079', '1081', '276', '277', '32766', '768', '781', '783']\n",
      "event_iddddd :  {'Cue': 10}\n",
      "pppppppp :  9\n",
      "cccccccc :  5\n",
      "Not setting metadata\n",
      "160 matching events found\n",
      "No baseline correction applied\n",
      "0 projection items activated\n",
      "Using data from preloaded Raw for 160 events and 1001 original time points ...\n",
      "0 bad epochs dropped\n",
      "<Epochs |  160 events (all good), 3 – 7 s, baseline off, ~3.7 MB, data loaded,\n",
      " 'Cue': 160>\n",
      "Computing rank from data with rank=None\n",
      "    Using tolerance 1.3e-06 (2.2e-16 eps * 3 dim * 1.9e+09  max singular value)\n",
      "    Estimated rank (mag): 3\n",
      "    MAG: rank 3 computed from 3 data channels with 0 projectors\n",
      "Reducing data rank from 3 -> 3\n",
      "Estimating covariance using EMPIRICAL\n",
      "Done.\n",
      "Computing rank from data with rank=None\n",
      "    Using tolerance 7.9e-07 (2.2e-16 eps * 3 dim * 1.2e+09  max singular value)\n"
     ]
    },
    {
     "name": "stderr",
     "output_type": "stream",
     "text": [
      "C:\\Users\\User\\AppData\\Local\\Temp\\ipykernel_1852\\1230389047.py:66: FutureWarning: The current default of copy=False will change to copy=True in 1.7. Set the value of copy explicitly to avoid this warning\n",
      "  X = epochs.get_data()  # EEG signals: (n_epochs, n_channels, n_times)\n"
     ]
    },
    {
     "name": "stdout",
     "output_type": "stream",
     "text": [
      "    Estimated rank (mag): 3\n",
      "    MAG: rank 3 computed from 3 data channels with 0 projectors\n",
      "Reducing data rank from 3 -> 3\n",
      "Estimating covariance using EMPIRICAL\n",
      "Done.\n"
     ]
    },
    {
     "data": {
      "image/png": "[encoded data removed]",
      "text/plain": [
       "<Figure size 1000x500 with 1 Axes>"
      ]
     },
     "metadata": {},
     "output_type": "display_data"
    }
   ],
   "source": [
    "import mne\n",
    "import numpy as np\n",
    "from scipy.signal import butter, filtfilt\n",
    "from mne.decoding import CSP\n",
    "from sklearn.svm import SVC\n",
    "from sklearn.model_selection import train_test_split\n",
    "from sklearn.preprocessing import StandardScaler\n",
    "import matplotlib.pyplot as plt\n",
    "\n",
    "# Define the bandpass filter function\n",
    "def butter_bandpass_filter(data, lowcut, highcut, fs, order=5):\n",
    "    nyquist = 0.5 * fs\n",
    "    low = lowcut / nyquist\n",
    "    high = highcut / nyquist\n",
    "    b, a = butter(order, [low, high], btype='band')\n",
    "    y = filtfilt(b, a, data, axis=-1)\n",
    "    return y\n",
    "\n",
    "\n",
    "\n",
    "def classification(file_paths):\n",
    "    global X_combined, y_combined, raw, X_train,X_test,X,y,count,p\n",
    "    # Initialize lists to hold combined data and labels\n",
    "    X_combined = []\n",
    "    y_combined = []\n",
    "    count = 1\n",
    "    for file_path in file_paths:\n",
    "        # Load the .gdf file\n",
    "        raw = mne.io.read_raw_gdf(file_path, preload=True, eog=['EOG:ch01', 'EOG:ch02', 'EOG:ch03'])\n",
    "\n",
    "        # Drop EOG channels\n",
    "        raw.drop_channels(['EOG:ch01', 'EOG:ch02', 'EOG:ch03'])\n",
    "\n",
    "        # Extract events\n",
    "        events, event_id = mne.events_from_annotations(raw)\n",
    "        \n",
    "        \n",
    "        # Define event ids for left hand (class 1) and right hand (class 2) motor imagery tasks\n",
    "        e = event_id\n",
    "        j=0\n",
    "        k=1\n",
    "        for i in e:\n",
    "            j+=1\n",
    "            k+=1\n",
    "            if i == '769' :\n",
    "                event_id = {'left_hand': j, 'right_hand': k}\n",
    "                print('event_iddddd : ', event_id)\n",
    "                print('pppppppp : ',p)\n",
    "                print('cccccccc : ', count)\n",
    "                break\n",
    "            elif i == '781':\n",
    "                event_id = {'Cue': j}\n",
    "                print('event_iddddd : ', event_id)\n",
    "                print('pppppppp : ',p)\n",
    "                print('cccccccc : ', count)\n",
    "                break\n",
    "\n",
    "        count +=1\n",
    "        if count == 6:\n",
    "            count = 1   \n",
    "        epochs = mne.Epochs(raw, events, event_id, tmin= 3, tmax = 7, baseline=None, preload=True)\n",
    "\n",
    "        print(epochs)\n",
    "\n",
    "        # Get the data and labels\n",
    "        X = epochs.get_data()  # EEG signals: (n_epochs, n_channels, n_times)\n",
    "        y = epochs.events[:, -1]  # Labels\n",
    "\n",
    "        # Apply a bandpass filter from 8 Hz to 30 Hz\n",
    "        X_filtered = np.array([butter_bandpass_filter(epoch, 4, 30, raw.info['sfreq']) for epoch in X])\n",
    "\n",
    "        # Append filtered data and labels to the combined lists\n",
    "        X_combined.append(X_filtered)\n",
    "        y_combined.append(y)\n",
    "        \n",
    "\n",
    "    \n",
    "\n",
    "    \n",
    "    # Concatenate all data and labels\n",
    "    X_combined = np.concatenate(X_combined, axis=0)\n",
    "    y_combined = np.concatenate(y_combined, axis=0)\n",
    "\n",
    "    # Split data into training and testing sets\n",
    "    X_train, X_test, y_train, y_test = train_test_split(X_combined, y_combined, test_size=0.3, random_state=120)\n",
    "\n",
    "    # Ensure there are at least two classes in the training set\n",
    "    while len(np.unique(y_train)) < 2:\n",
    "        X_train, X_test, y_train, y_test = train_test_split(X_combined, y_combined, test_size=0.3, random_state=120)\n",
    "        \n",
    "        # After re-splitting, check again\n",
    "        if len(np.unique(y_train)) >= 2:\n",
    "            break\n",
    "\n",
    "    # Check the number of unique classes in y_train after the loop\n",
    "    if len(np.unique(y_train)) < 2:\n",
    "        raise ValueError(\"Could not find at least two classes in the training set.\")\n",
    "\n",
    "    # Initialize CSP\n",
    "    csp = CSP(n_components=4, reg=None, log=True, norm_trace=False)\n",
    "\n",
    "    # Fit CSP on training data\n",
    "    csp.fit(X_train, y_train)\n",
    "\n",
    "    # Transform training and testing data with CSP\n",
    "    X_train_csp = csp.transform(X_train)\n",
    "    X_test_csp = csp.transform(X_test)\n",
    "\n",
    "    # Standardize the data\n",
    "    scaler = StandardScaler()\n",
    "    X_train_csp = scaler.fit_transform(X_train_csp)\n",
    "    X_test_csp = scaler.transform(X_test_csp)\n",
    "\n",
    "    # Initialize and fit the SVM classifier\n",
    "    svm = SVC(kernel='linear', probability=True)\n",
    "    svm.fit(X_train_csp, y_train)\n",
    "\n",
    "    # Test the model\n",
    "    accuracy = svm.score(X_test_csp, y_test)\n",
    "    return accuracy\n",
    "\n",
    "allData = {\n",
    "    \"patient_1\": ['data/B0101T.gdf', 'data/B0102T.gdf', 'data/B0103T.gdf', 'data/B0104E.gdf', 'data/B0105E.gdf'],\n",
    "    \"patient_2\": ['data/B0201T.gdf', 'data/B0202T.gdf', 'data/B0203T.gdf', 'data/B0204E.gdf', 'data/B0205E.gdf'],\n",
    "    \"patient_3\": ['data/B0301T.gdf', 'data/B0302T.gdf', 'data/B0303T.gdf', 'data/B0304E.gdf', 'data/B0305E.gdf'],\n",
    "    \"patient_4\": ['data/B0401T.gdf', 'data/B0402T.gdf', 'data/B0403T.gdf', 'data/B0404E.gdf', 'data/B0405E.gdf'],\n",
    "    \"patient_5\": ['data/B0501T.gdf', 'data/B0502T.gdf', 'data/B0503T.gdf', 'data/B0504E.gdf', 'data/B0505E.gdf'],\n",
    "    \"patient_6\": ['data/B0601T.gdf', 'data/B0602T.gdf', 'data/B0603T.gdf', 'data/B0604E.gdf', 'data/B0605E.gdf'],\n",
    "    \"patient_7\": ['data/B0701T.gdf', 'data/B0702T.gdf', 'data/B0703T.gdf', 'data/B0704E.gdf', 'data/B0705E.gdf'],\n",
    "    \"patient_8\": ['data/B0801T.gdf', 'data/B0802T.gdf', 'data/B0803T.gdf', 'data/B0804E.gdf', 'data/B0805E.gdf'],\n",
    "    \"patient_9\": ['data/B0901T.gdf', 'data/B0902T.gdf', 'data/B0903T.gdf', 'data/B0904E.gdf', 'data/B0905E.gdf']\n",
    "}\n",
    "p=1\n",
    "accuracy_list = []\n",
    "for data_files in allData.values():\n",
    "    accuracy_list.append(classification(data_files))\n",
    "    p +=1\n",
    "\n",
    "mean_accuracy = np.mean(accuracy_list)\n",
    "# Plot the accuracies\n",
    "plt.figure(figsize=(10, 5))\n",
    "plt.bar(allData.keys(), accuracy_list)\n",
    "plt.axhline(y=mean_accuracy, color='r', linestyle='--', label=f'Mean Accuracy: {mean_accuracy:.4f}')\n",
    "plt.xlabel('Patients')\n",
    "plt.ylabel('Accuracy')\n",
    "\n",
    "for index, value in enumerate(accuracy_list):\n",
    "    plt.text(index, value + 0.01, f'{value:.4f}', ha=\"center\")\n",
    "plt.title('Classification Accuracy for Each Patient')\n",
    "plt.legend(loc='center', bbox_to_anchor=(0.5, 0.5))\n",
    "plt.show()\n"
   ]
  }
 ],
 "metadata": {
  "kernelspec": {
   "display_name": "Python 3",
   "language": "python",
   "name": "python3"
  },
  "language_info": {
   "codemirror_mode": {
    "name": "ipython",
    "version": 3
   },
   "file_extension": ".py",
   "mimetype": "text/x-python",
   "name": "python",
   "nbconvert_exporter": "python",
   "pygments_lexer": "ipython3",
   "version": "3.11.5"
  }
 },
 "nbformat": 4,
 "nbformat_minor": 2
}
