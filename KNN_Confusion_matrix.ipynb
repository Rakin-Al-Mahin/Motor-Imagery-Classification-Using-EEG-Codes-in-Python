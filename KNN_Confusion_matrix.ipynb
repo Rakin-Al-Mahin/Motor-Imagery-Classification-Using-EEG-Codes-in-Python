{
 "cells": [
  {
   "cell_type": "code",
   "execution_count": 1,
   "metadata": {},
   "outputs": [
    {
     "name": "stdout",
     "output_type": "stream",
     "text": [
      "Extracting EDF parameters from e:\\VU\\11th Semester\\CSE 4212 & CSE 4316 (Thesis - Project)\\Motor Imagery Classification Using EEG Codes in Python\\data\\B0401T.gdf...\n",
      "GDF file detected\n",
      "Setting channel info structure...\n",
      "Could not determine channel type of the following channels, they will be set as EEG:\n",
      "EEG:C3, EEG:Cz, EEG:C4\n",
      "Creating raw.info structure...\n",
      "Reading 0 ... 604802  =      0.000 ...  2419.208 secs...\n"
     ]
    },
    {
     "name": "stderr",
     "output_type": "stream",
     "text": [
      "C:\\Users\\User\\AppData\\Local\\Temp\\ipykernel_3208\\2381448673.py:30: RuntimeWarning: Highpass cutoff frequency 100.0 is greater than lowpass cutoff frequency 0.5, setting values to 0 and Nyquist.\n",
      "  raw = mne.io.read_raw_gdf(file_path, preload=True, eog=['EOG:ch01', 'EOG:ch02', 'EOG:ch03'])\n"
     ]
    },
    {
     "name": "stdout",
     "output_type": "stream",
     "text": [
      "Used Annotations descriptions: ['1023', '1077', '1078', '1079', '1081', '276', '277', '32766', '768', '769', '770']\n",
      "Not setting metadata\n",
      "120 matching events found\n",
      "No baseline correction applied\n",
      "0 projection items activated\n",
      "Using data from preloaded Raw for 120 events and 1001 original time points ...\n",
      "0 bad epochs dropped\n",
      "Extracting EDF parameters from e:\\VU\\11th Semester\\CSE 4212 & CSE 4316 (Thesis - Project)\\Motor Imagery Classification Using EEG Codes in Python\\data\\B0402T.gdf...\n",
      "GDF file detected\n",
      "Setting channel info structure...\n"
     ]
    },
    {
     "name": "stderr",
     "output_type": "stream",
     "text": [
      "C:\\Users\\User\\AppData\\Local\\Temp\\ipykernel_3208\\2381448673.py:45: FutureWarning: The current default of copy=False will change to copy=True in 1.7. Set the value of copy explicitly to avoid this warning\n",
      "  X = epochs.get_data()  # EEG signals: (n_epochs, n_channels, n_times)\n"
     ]
    },
    {
     "name": "stdout",
     "output_type": "stream",
     "text": [
      "Could not determine channel type of the following channels, they will be set as EEG:\n",
      "EEG:C3, EEG:Cz, EEG:C4\n",
      "Creating raw.info structure...\n",
      "Reading 0 ... 696265  =      0.000 ...  2785.060 secs...\n"
     ]
    },
    {
     "name": "stderr",
     "output_type": "stream",
     "text": [
      "C:\\Users\\User\\AppData\\Local\\Temp\\ipykernel_3208\\2381448673.py:30: RuntimeWarning: Highpass cutoff frequency 100.0 is greater than lowpass cutoff frequency 0.5, setting values to 0 and Nyquist.\n",
      "  raw = mne.io.read_raw_gdf(file_path, preload=True, eog=['EOG:ch01', 'EOG:ch02', 'EOG:ch03'])\n"
     ]
    },
    {
     "name": "stdout",
     "output_type": "stream",
     "text": [
      "Used Annotations descriptions: ['1023', '1077', '1078', '1079', '1081', '276', '277', '32766', '768', '769', '770']\n",
      "Not setting metadata\n",
      "140 matching events found\n",
      "No baseline correction applied\n",
      "0 projection items activated\n",
      "Using data from preloaded Raw for 140 events and 1001 original time points ...\n",
      "0 bad epochs dropped\n",
      "Extracting EDF parameters from e:\\VU\\11th Semester\\CSE 4212 & CSE 4316 (Thesis - Project)\\Motor Imagery Classification Using EEG Codes in Python\\data\\B0403T.gdf...\n",
      "GDF file detected\n"
     ]
    },
    {
     "name": "stderr",
     "output_type": "stream",
     "text": [
      "C:\\Users\\User\\AppData\\Local\\Temp\\ipykernel_3208\\2381448673.py:45: FutureWarning: The current default of copy=False will change to copy=True in 1.7. Set the value of copy explicitly to avoid this warning\n",
      "  X = epochs.get_data()  # EEG signals: (n_epochs, n_channels, n_times)\n"
     ]
    },
    {
     "name": "stdout",
     "output_type": "stream",
     "text": [
      "Setting channel info structure...\n",
      "Could not determine channel type of the following channels, they will be set as EEG:\n",
      "EEG:C3, EEG:Cz, EEG:C4\n",
      "Creating raw.info structure...\n",
      "Reading 0 ... 468558  =      0.000 ...  1874.232 secs...\n"
     ]
    },
    {
     "name": "stderr",
     "output_type": "stream",
     "text": [
      "C:\\Users\\User\\AppData\\Local\\Temp\\ipykernel_3208\\2381448673.py:30: RuntimeWarning: Highpass cutoff frequency 100.0 is greater than lowpass cutoff frequency 0.5, setting values to 0 and Nyquist.\n",
      "  raw = mne.io.read_raw_gdf(file_path, preload=True, eog=['EOG:ch01', 'EOG:ch02', 'EOG:ch03'])\n"
     ]
    },
    {
     "name": "stdout",
     "output_type": "stream",
     "text": [
      "Used Annotations descriptions: ['1023', '1077', '1078', '1079', '1081', '276', '277', '32766', '768', '769', '770', '781']\n",
      "Not setting metadata\n",
      "160 matching events found\n",
      "No baseline correction applied\n",
      "0 projection items activated\n",
      "Using data from preloaded Raw for 160 events and 1001 original time points ...\n",
      "0 bad epochs dropped\n",
      "Computing rank from data with rank=None\n"
     ]
    },
    {
     "name": "stderr",
     "output_type": "stream",
     "text": [
      "C:\\Users\\User\\AppData\\Local\\Temp\\ipykernel_3208\\2381448673.py:45: FutureWarning: The current default of copy=False will change to copy=True in 1.7. Set the value of copy explicitly to avoid this warning\n",
      "  X = epochs.get_data()  # EEG signals: (n_epochs, n_channels, n_times)\n"
     ]
    },
    {
     "name": "stdout",
     "output_type": "stream",
     "text": [
      "    Using tolerance 9.1e-07 (2.2e-16 eps * 3 dim * 1.4e+09  max singular value)\n",
      "    Estimated rank (mag): 3\n",
      "    MAG: rank 3 computed from 3 data channels with 0 projectors\n",
      "Reducing data rank from 3 -> 3\n",
      "Estimating covariance using EMPIRICAL\n",
      "Done.\n",
      "Computing rank from data with rank=None\n",
      "    Using tolerance 8.9e-07 (2.2e-16 eps * 3 dim * 1.3e+09  max singular value)\n",
      "    Estimated rank (mag): 3\n",
      "    MAG: rank 3 computed from 3 data channels with 0 projectors\n",
      "Reducing data rank from 3 -> 3\n",
      "Estimating covariance using EMPIRICAL\n",
      "Done.\n"
     ]
    },
    {
     "data": {
      "image/png": "[encoded data removed]",
      "text/plain": [
       "<Figure size 800x600 with 2 Axes>"
      ]
     },
     "metadata": {},
     "output_type": "display_data"
    },
    {
     "name": "stdout",
     "output_type": "stream",
     "text": [
      "Accuracy List: [0.6190476190476191]\n"
     ]
    }
   ],
   "source": [
    "import mne\n",
    "import numpy as np\n",
    "from scipy.signal import butter, filtfilt\n",
    "from mne.decoding import CSP\n",
    "from sklearn.neighbors import KNeighborsClassifier  # Import KNN classifier\n",
    "from sklearn.model_selection import train_test_split\n",
    "from sklearn.preprocessing import StandardScaler\n",
    "from sklearn.metrics import confusion_matrix\n",
    "import matplotlib.pyplot as plt\n",
    "import itertools\n",
    " \n",
    "# Define the bandpass filter function\n",
    "def butter_bandpass_filter(data, lowcut, highcut, fs, order=5):\n",
    "    nyquist = 0.5 * fs\n",
    "    low = lowcut / nyquist\n",
    "    high = highcut / nyquist\n",
    "    b, a = butter(order, [low, high], btype='band')\n",
    "    y = filtfilt(b, a, data, axis=-1)\n",
    "    return y\n",
    " \n",
    "def classification(file_paths):\n",
    "    global X_combined, y_combined, raw, X_train, X_test, X, y\n",
    " \n",
    "    # Initialize lists to hold combined data and labels\n",
    "    X_combined = []\n",
    "    y_combined = []\n",
    " \n",
    "    for file_path in file_paths:\n",
    "        # Load the .gdf file\n",
    "        raw = mne.io.read_raw_gdf(file_path, preload=True, eog=['EOG:ch01', 'EOG:ch02', 'EOG:ch03'])\n",
    " \n",
    "        # Drop EOG channels\n",
    "        raw.drop_channels(['EOG:ch01', 'EOG:ch02', 'EOG:ch03'])\n",
    " \n",
    "        # Extract events\n",
    "        events, event_id = mne.events_from_annotations(raw)\n",
    "       \n",
    "        e = event_id\n",
    "       \n",
    "        event_id = {'left_hand': e['769'], 'right_hand': e['770']}\n",
    " \n",
    "        epochs = mne.Epochs(raw, events, event_id, tmin=3, tmax=7, baseline=None, preload=True)\n",
    " \n",
    "        # Get the data and labels\n",
    "        X = epochs.get_data()  # EEG signals: (n_epochs, n_channels, n_times)\n",
    "        y = epochs.events[:, -1]  # Labels\n",
    " \n",
    "        # Apply a bandpass filter from 8 Hz to 30 Hz\n",
    "        X_filtered = np.array([butter_bandpass_filter(epoch, 8, 30, raw.info['sfreq']) for epoch in X])\n",
    " \n",
    "        # Append filtered data and labels to the combined lists\n",
    "        X_combined.append(X_filtered)\n",
    "        y_combined.append(y)\n",
    " \n",
    "    # Concatenate all data and labels\n",
    "    X_combined = np.concatenate(X_combined, axis=0)\n",
    "    y_combined = np.concatenate(y_combined, axis=0)\n",
    " \n",
    "    # Split data into training and testing sets\n",
    "    X_train, X_test, y_train, y_test = train_test_split(X_combined, y_combined, test_size=0.3, random_state=120)\n",
    " \n",
    "    # Ensure there are at least two classes in the training set\n",
    "    while len(np.unique(y_train)) < 2:\n",
    "        X_train, X_test, y_train, y_test = train_test_split(X_combined, y_combined, test_size=0.3, random_state=120)\n",
    "       \n",
    "        # After re-splitting, check again\n",
    "        if len(np.unique(y_train)) >= 2:\n",
    "            break\n",
    " \n",
    "    # Check the number of unique classes in y_train after the loop\n",
    "    if len(np.unique(y_train)) < 2:\n",
    "        raise ValueError(\"Could not find at least two classes in the training set.\")\n",
    " \n",
    "    # Initialize CSP\n",
    "    csp = CSP(n_components=4, reg=None, log=True, norm_trace=False)\n",
    " \n",
    "    # Fit CSP on training data\n",
    "    csp.fit(X_train, y_train)\n",
    " \n",
    "    # Transform training and testing data with CSP\n",
    "    X_train_csp = csp.transform(X_train)\n",
    "    X_test_csp = csp.transform(X_test)\n",
    " \n",
    "    # Standardize the data\n",
    "    scaler = StandardScaler()\n",
    "    X_train_csp = scaler.fit_transform(X_train_csp)\n",
    "    X_test_csp = scaler.transform(X_test_csp)\n",
    " \n",
    "    # Initialize and fit the KNN classifier\n",
    "    knn = KNeighborsClassifier(n_neighbors=5)  # You can adjust the number of neighbors\n",
    "    knn.fit(X_train_csp, y_train)\n",
    " \n",
    "    # Test the model\n",
    "    accuracy = knn.score(X_test_csp, y_test)\n",
    " \n",
    "    # Compute confusion matrix\n",
    "    predictions = knn.predict(X_test_csp)\n",
    "    cm = confusion_matrix(y_test, predictions)\n",
    " \n",
    "    # Plot confusion matrix\n",
    "    plt.figure(figsize=(8, 6))\n",
    "    plt.imshow(cm, interpolation='nearest', cmap=plt.cm.Blues)\n",
    "    plt.title('Confusion Matrix')\n",
    "    plt.colorbar()\n",
    "    classes = np.unique(y_test)\n",
    "    tick_marks = np.arange(len(classes))\n",
    "    plt.xticks(tick_marks, classes)\n",
    "    plt.yticks(tick_marks, classes)\n",
    " \n",
    "    fmt = 'd'\n",
    "    thresh = cm.max() / 2.\n",
    "    for i, j in itertools.product(range(cm.shape[0]), range(cm.shape[1])):\n",
    "        plt.text(j, i, format(cm[i, j], fmt),\n",
    "                 horizontalalignment=\"center\",\n",
    "                 color=\"white\" if cm[i, j] > thresh else \"black\")\n",
    " \n",
    "    plt.ylabel('True label')\n",
    "    plt.xlabel('Predicted label')\n",
    "    plt.tight_layout()\n",
    "    plt.show()\n",
    " \n",
    "    return accuracy\n",
    " \n",
    "allData = {\n",
    "    \"patient_1\": ['data/B0401T.gdf', 'data/B0402T.gdf', 'data/B0403T.gdf']\n",
    "}\n",
    " \n",
    "accuracy_list = []\n",
    "for data_files in allData.values():\n",
    "    accuracy_list.append(classification(data_files))\n",
    " \n",
    "print(\"Accuracy List:\", accuracy_list)\n",
    " "
   ]
  }
 ],
 "metadata": {
  "kernelspec": {
   "display_name": "Python 3",
   "language": "python",
   "name": "python3"
  },
  "language_info": {
   "codemirror_mode": {
    "name": "ipython",
    "version": 3
   },
   "file_extension": ".py",
   "mimetype": "text/x-python",
   "name": "python",
   "nbconvert_exporter": "python",
   "pygments_lexer": "ipython3",
   "version": "3.11.5"
  }
 },
 "nbformat": 4,
 "nbformat_minor": 2
}
